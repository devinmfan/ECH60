{
 "cells": [
  {
   "cell_type": "markdown",
   "metadata": {},
   "source": [
    "# ECH 60 Spring 2022: QUIZ 5\n",
    "\n",
    "<font color='red'> Total 2.5+3+7=12.5 points</font>. \n",
    "\n",
    "Rename this file as lastname_firstname and upload to canvas in the correct ipynb format. Partial points will be awarded ONLY IF a reasonably accurate attempt has been made. "
   ]
  },
  {
   "cell_type": "markdown",
   "metadata": {},
   "source": [
    "You may consult your notes, lecture material, or tutorials. You must NOT consult any other sources. You should NOT seek help from anyone else for the duration of the quiz. And you should NOT share or discuss questions with anyone during or after the quiz. \n",
    "\n",
    "Acknowledge abiding by these rules by writing a single line of code to print your name:\n",
    "<font color='green'> [-1 point if incomplete] </font>"
   ]
  },
  {
   "cell_type": "code",
   "execution_count": 2,
   "metadata": {},
   "outputs": [
    {
     "name": "stdout",
     "output_type": "stream",
     "text": [
      "Devin Fan\n"
     ]
    }
   ],
   "source": [
    "print(\"Devin Fan\")"
   ]
  },
  {
   "cell_type": "markdown",
   "metadata": {},
   "source": [
    "**PROBLEM 0:** First, run the following code cell to import modules. Copy and paste and run any familiar functions we have developed in past tutorials here if you need them for later problems."
   ]
  },
  {
   "cell_type": "code",
   "execution_count": 3,
   "metadata": {},
   "outputs": [],
   "source": [
    "import numpy as np\n",
    "import numpy.linalg as la\n",
    "import scipy.integrate as si\n",
    "import matplotlib.pyplot as plt"
   ]
  },
  {
   "cell_type": "markdown",
   "metadata": {},
   "source": [
    "**PROBLEM 1:**  <font color='red'> [Total 2.5 points] </font>\n",
    "\n",
    "**1 (a):** The 'error function' (also called Gauss error function) frequently arises in probability, statistics, mass transfer, and fluid dynamics, and is defined as \n",
    "\n",
    "$$ {\\rm erf}(x) = \\frac{2}{\\sqrt{\\pi}} \\int_0^x e^{-s^2} ds. $$\n",
    "\n",
    "Develop a user-defined function `my_erf(x)` that takes in any positive number $x$ and returns the value of the error function at that point. \n"
   ]
  },
  {
   "cell_type": "code",
   "execution_count": 20,
   "metadata": {},
   "outputs": [],
   "source": [
    "def my_erf(x):\n",
    "    x=np.linspace(0,x,100)\n",
    "    y=np.exp(-x^2)\n",
    "    F=2/np.sqrt(np.pi)*si.simps(x,y)\n",
    "    return F"
   ]
  },
  {
   "cell_type": "markdown",
   "metadata": {},
   "source": [
    "**1 (b):** Use this function to find the value of the error function at $x=1/4$."
   ]
  },
  {
   "cell_type": "code",
   "execution_count": 23,
   "metadata": {},
   "outputs": [],
   "source": [
    "my_erf(1/4)"
   ]
  },
  {
   "cell_type": "markdown",
   "metadata": {},
   "source": [
    "**PROBLEM 2:** <font color='red'> [Total 3 points] </font>\n",
    "\n",
    "A spherical room freshener pellet of radius $6.4\\,{\\rm mm}$ is initially saturated with a solute at a density $1.8 \\,{\\rm g/cm^3}$. The solute is slowly released to the surroundings, so the regions closer to the surface are depleted while the core remains at a relatively higher density. After some time, the density $\\rho$ of solute at a radial distance $r$ from the pellet center is\n",
    "\n",
    "$$\\begin{matrix} \n",
    "{r~({\\rm  mm})} & 0 & 0.8 & 1.2 & 1.4 & 2.0 & 3.0 & 3.4 & 3.6 & 4.0 & 5.0 & 5.5 & 6.4\\\\\n",
    "{\\rho~({\\rm g/cm^3})}& 1.8 &  1.79 & 1.77 & 1.70 & 1.67 & 1.56 & 1.49 & 1.45 & 1.23 & 1.18 & 1.15 & 1.13\n",
    "\\end{matrix}$$\n",
    "\n",
    "The total mass of solute remaining within the pellet can be found by integrating the density across the entire volume:\n",
    "\n",
    "$$ m = \\int_V \\rho \\,dV. $$\n",
    "\n",
    "Assume that solute distribution only depends on radial position, so that $dV = 4\\pi r^2 dr$. Find $m$ in grams.\n",
    "\n"
   ]
  },
  {
   "cell_type": "code",
   "execution_count": 46,
   "metadata": {
    "scrolled": true
   },
   "outputs": [
    {
     "name": "stdout",
     "output_type": "stream",
     "text": [
      "67649.4871681551\n"
     ]
    }
   ],
   "source": [
    "r=np.array([0,.8,1.2,1.4,2.0,3,3.4,3.6,4.0,5,5.5,6.4])\n",
    "r=r*10\n",
    "p=np.array([1.8,1.79,1.77,1.7,1.67,1.56,1.49,1.45,1.23,1.18,1.15,1.13])\n",
    "\n",
    "dv=4*np.pi*r**2\n",
    "m=si.simps(p,dv)\n",
    "print(m)"
   ]
  },
  {
   "cell_type": "markdown",
   "metadata": {},
   "source": [
    "**PROBLEM 3:** <font color='red'> [Total 7 points] </font>\n",
    "\n",
    "The Van der Pol oscillator is a nonlinear extension of the simple harmonic oscillator, and shows up in the modeling of electrical circuits, activity of neurons, and the vibration of vocal chords in our throats:\n",
    "\n",
    "$$ \\frac{d^2 x}{dt^2} - \\mu (1-x^2) \\frac{dx}{dt} + x =0. $$\n",
    "\n",
    "**(3a)** Convert the Van der Pol oscillator to a coupled system of first-order differential equations and numerically solve it using any method for time $t=0$ to $t=40$ in steps of $0.05$. Plot your solution. Use $\\mu=-0.5$ and initial conditions \n",
    "\n",
    "$$x(t=0)=0,\\qquad \\left.\\frac{dx}{dt}\\right|_{t=0}=2.$$\n",
    "\n",
    "\n"
   ]
  },
  {
   "cell_type": "code",
   "execution_count": 68,
   "metadata": {},
   "outputs": [
    {
     "data": {
      "image/png": "[encoded data removed]",
      "text/plain": [
       "<Figure size 432x288 with 1 Axes>"
      ]
     },
     "metadata": {
      "needs_background": "light"
     },
     "output_type": "display_data"
    }
   ],
   "source": [
    "m=-0.5\n",
    "\n",
    "def fx(x,v,t): return v\n",
    "def fv(x,v,t): return -x+(m*(1-x**2)*v)\n",
    "\n",
    "# time range\n",
    "h=0.05\n",
    "t=np.arange(0,40+h,h)\n",
    "\n",
    "# initialize solutions\n",
    "x=np.zeros(t.shape)\n",
    "v=np.zeros(t.shape)\n",
    "\n",
    "# initial conditon at t=0\n",
    "x[0]=2\n",
    "v[0]=0\n",
    "\n",
    "for i in range(len(t)-1):\n",
    "    \n",
    "    # RK4 substeps\n",
    "    kx1=fx(x[i],v[i],t[i])\n",
    "    kv1=fv(x[i],v[i],t[i])\n",
    "    \n",
    "    kx2=fx(x[i]+h*kx1/2,v[i]+h*kv1/2,t[i]+h/2)\n",
    "    kv2=fv(x[i]+h*kx1/2,v[i]+h*kv1/2,t[i]+h/2)\n",
    "    \n",
    "    kx3=fx(x[i]+h*kx2/2,v[i]+h*kv2/2,t[i]+h/2)\n",
    "    kv3=fv(x[i]+h*kx2/2,v[i]+h*kv2/2,t[i]+h/2)\n",
    "    \n",
    "    kx4=fx(x[i]+h*kx3,v[i]+h*kv3,t[i])\n",
    "    kv4=fv(x[i]+h*kx3,v[i]+h*kv3,t[i])\n",
    "    \n",
    "    # weighted average\n",
    "    kx=(kx1+2*kx2+2*kx3+kx4)/6\n",
    "    kv=(kv1+2*kv2+2*kv3+kv4)/6\n",
    "    \n",
    "    # jump with modified average slope\n",
    "    x[i+1]=x[i]+h*kx\n",
    "    v[i+1]=v[i]+h*kv\n",
    "\n",
    "plt.plot(t,x,'b-')\n",
    "plt.title('damped harmonic oscillator')\n",
    "plt.ylabel('x')\n",
    "plt.xlabel('t')\n",
    "plt.show()"
   ]
  },
  {
   "cell_type": "markdown",
   "metadata": {},
   "source": [
    "**(3b)** Now solve and plot using $\\mu=5$ and initial conditions \n",
    "\n",
    "$$x(t=0)=2,\\qquad \\left.\\frac{dx}{dt}\\right|_{t=0}=0.$$\n",
    "\n"
   ]
  },
  {
   "cell_type": "code",
   "execution_count": 70,
   "metadata": {},
   "outputs": [
    {
     "data": {
      "image/png": "[encoded data removed]",
      "text/plain": [
       "<Figure size 432x288 with 1 Axes>"
      ]
     },
     "metadata": {
      "needs_background": "light"
     },
     "output_type": "display_data"
    }
   ],
   "source": [
    "m=5\n",
    "\n",
    "def fx(x,v,t): return v\n",
    "def fv(x,v,t): return -x+(m*(1-x**2)*v)\n",
    "\n",
    "# time range\n",
    "h=0.05\n",
    "t=np.arange(0,40+h,h)\n",
    "\n",
    "# initialize solutions\n",
    "x=np.zeros(t.shape)\n",
    "v=np.zeros(t.shape)\n",
    "\n",
    "# initial conditon at t=0\n",
    "x[0]=0\n",
    "v[0]=2\n",
    "\n",
    "for i in range(len(t)-1):\n",
    "    \n",
    "    # RK4 substeps\n",
    "    kx1=fx(x[i],v[i],t[i])\n",
    "    kv1=fv(x[i],v[i],t[i])\n",
    "    \n",
    "    kx2=fx(x[i]+h*kx1/2,v[i]+h*kv1/2,t[i]+h/2)\n",
    "    kv2=fv(x[i]+h*kx1/2,v[i]+h*kv1/2,t[i]+h/2)\n",
    "    \n",
    "    kx3=fx(x[i]+h*kx2/2,v[i]+h*kv2/2,t[i]+h/2)\n",
    "    kv3=fv(x[i]+h*kx2/2,v[i]+h*kv2/2,t[i]+h/2)\n",
    "    \n",
    "    kx4=fx(x[i]+h*kx3,v[i]+h*kv3,t[i])\n",
    "    kv4=fv(x[i]+h*kx3,v[i]+h*kv3,t[i])\n",
    "    \n",
    "    # weighted average\n",
    "    kx=(kx1+2*kx2+2*kx3+kx4)/6\n",
    "    kv=(kv1+2*kv2+2*kv3+kv4)/6\n",
    "    \n",
    "    # jump with modified average slope\n",
    "    x[i+1]=x[i]+h*kx\n",
    "    v[i+1]=v[i]+h*kv\n",
    "\n",
    "w=plt.plot(t,x,'b-')\n",
    "plt.title('damped harmonic oscillator')\n",
    "plt.ylabel('x')\n",
    "plt.xlabel('t')\n",
    "plt.show()"
   ]
  },
  {
   "cell_type": "markdown",
   "metadata": {},
   "source": [
    "**(3c)** A common way to represent the dynamics of oscillators is in the form of a 'phase portrait'. This is a plot with $x$ as the horizontal axis and $\\frac{dx}{dt}$ as the vertical axis. Display the phase portrait of your solution from problem (3b).\n",
    "\n"
   ]
  },
  {
   "cell_type": "code",
   "execution_count": 73,
   "metadata": {
    "scrolled": true
   },
   "outputs": [
    {
     "data": {
      "image/png": "[encoded data removed]",
      "text/plain": [
       "<Figure size 432x288 with 1 Axes>"
      ]
     },
     "metadata": {
      "needs_background": "light"
     },
     "output_type": "display_data"
    }
   ],
   "source": [
    "m=5\n",
    "\n",
    "def fx(x,v,t): return v\n",
    "def fv(x,v,t): return -x+(m*(1-x**2)*v)\n",
    "\n",
    "# time range\n",
    "h=0.05\n",
    "t=np.arange(0,40+h,h)\n",
    "\n",
    "# initialize solutions\n",
    "x=np.zeros(t.shape)\n",
    "v=np.zeros(t.shape)\n",
    "\n",
    "# initial conditon at t=0\n",
    "x[0]=0\n",
    "v[0]=2\n",
    "\n",
    "for i in range(len(t)-1):\n",
    "    \n",
    "    # RK4 substeps\n",
    "    kx1=fx(x[i],v[i],t[i])\n",
    "    kv1=fv(x[i],v[i],t[i])\n",
    "    \n",
    "    kx2=fx(x[i]+h*kx1/2,v[i]+h*kv1/2,t[i]+h/2)\n",
    "    kv2=fv(x[i]+h*kx1/2,v[i]+h*kv1/2,t[i]+h/2)\n",
    "    \n",
    "    kx3=fx(x[i]+h*kx2/2,v[i]+h*kv2/2,t[i]+h/2)\n",
    "    kv3=fv(x[i]+h*kx2/2,v[i]+h*kv2/2,t[i]+h/2)\n",
    "    \n",
    "    kx4=fx(x[i]+h*kx3,v[i]+h*kv3,t[i])\n",
    "    kv4=fv(x[i]+h*kx3,v[i]+h*kv3,t[i])\n",
    "    \n",
    "    # weighted average\n",
    "    kx=(kx1+2*kx2+2*kx3+kx4)/6\n",
    "    kv=(kv1+2*kv2+2*kv3+kv4)/6\n",
    "    \n",
    "    # jump with modified average slope\n",
    "    x[i+1]=x[i]+h*kx\n",
    "    v[i+1]=v[i]+h*kv\n",
    "\n",
    "w=plt.plot(x,t,'b-')\n",
    "plt.title('damped harmonic oscillator')\n",
    "plt.ylabel('x')\n",
    "plt.xlabel('t')\n",
    "plt.show()"
   ]
  },
  {
   "cell_type": "markdown",
   "metadata": {},
   "source": [
    "*Rough work/test cells (won't be graded):*"
   ]
  },
  {
   "cell_type": "code",
   "execution_count": null,
   "metadata": {},
   "outputs": [],
   "source": []
  },
  {
   "cell_type": "code",
   "execution_count": null,
   "metadata": {},
   "outputs": [],
   "source": []
  },
  {
   "cell_type": "code",
   "execution_count": null,
   "metadata": {},
   "outputs": [],
   "source": []
  },
  {
   "cell_type": "code",
   "execution_count": null,
   "metadata": {},
   "outputs": [],
   "source": []
  },
  {
   "cell_type": "code",
   "execution_count": null,
   "metadata": {},
   "outputs": [],
   "source": []
  }
 ],
 "metadata": {
  "kernelspec": {
   "display_name": "Python 3 (ipykernel)",
   "language": "python",
   "name": "python3"
  },
  "language_info": {
   "codemirror_mode": {
    "name": "ipython",
    "version": 3
   },
   "file_extension": ".py",
   "mimetype": "text/x-python",
   "name": "python",
   "nbconvert_exporter": "python",
   "pygments_lexer": "ipython3",
   "version": "3.9.7"
  }
 },
 "nbformat": 4,
 "nbformat_minor": 4
}
