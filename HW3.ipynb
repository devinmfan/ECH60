{
 "cells": [
  {
   "cell_type": "markdown",
   "metadata": {},
   "source": [
    "# ECH 60 Spring 2022: HW 3\n",
    "\n",
    "Rename this file as lastname_firstname and upload to canvas before 5pm Friday, April 29th.\n",
    "<font color='red'> Total 4 points</font>. Partial points will be awarded ONLY IF a reasonable attempt has been made."
   ]
  },
  {
   "cell_type": "markdown",
   "metadata": {},
   "source": [
    "**PROBLEM 0:** Import `numpy` and `matplotlib.pyplot`"
   ]
  },
  {
   "cell_type": "code",
   "execution_count": 2,
   "metadata": {},
   "outputs": [],
   "source": [
    "import numpy as np\n",
    "import matplotlib.pyplot as plt"
   ]
  },
  {
   "cell_type": "markdown",
   "metadata": {},
   "source": [
    "**PROBLEM 1:** The resistance $R$ (in Ohms) of a semiconductor at different temperatures $T$ (in K) is given by the Steinhart–Hart equation:\n",
    "\n",
    "$$  \\frac{1}{T} = A + B \\ln R + C \\left( \\ln R \\right)^2 + D \\left( \\ln R \\right)^3, $$\n",
    "\n",
    "where the constants $A$, $B$, $C$ and $D$ depend on the type of the material. In an experiment characterizing the resistance, the following data was measured\n",
    "\n",
    "$$\\begin{matrix} \n",
    "{T ~({\\rm Celsius})}      & 276 & 279 & 282 & 284 & 290 & 295 & 298 & 305 & 320 & 360 \\\\\n",
    "{R ~({\\rm Ohm})}& 18950 & 17200 & 14950 & 13100 & 10930 & 9020 & 6960 & 4950 & 3100 & 950 \\end{matrix}$$\n",
    "\n",
    "Determine the material constants $A$, $B$, $C$ and $D$ using `polyval`. Show a plot of $R$ vs $T$ with the measured points as dots and the fit as a solid line."
   ]
  },
  {
   "cell_type": "code",
   "execution_count": 2,
   "metadata": {},
   "outputs": [
    {
     "data": {
      "image/png": "[encoded data removed]",
      "text/plain": [
       "<Figure size 432x288 with 1 Axes>"
      ]
     },
     "metadata": {
      "needs_background": "light"
     },
     "output_type": "display_data"
    },
    {
     "name": "stdout",
     "output_type": "stream",
     "text": [
      "material constants: [ 3.86307411e-06 -1.02936294e-04  9.82838839e-04 -1.56539977e-03]\n"
     ]
    }
   ],
   "source": []
  },
  {
   "cell_type": "code",
   "execution_count": 17,
   "metadata": {},
   "outputs": [
    {
     "name": "stdout",
     "output_type": "stream",
     "text": [
      "Material Constants are : A= 3.8631e-06 B= -0.0001029363 C= 0.0009828388 D= -0.0015653998\n"
     ]
    },
    {
     "data": {
      "image/png": "[encoded data removed]",
      "text/plain": [
       "<Figure size 432x288 with 1 Axes>"
      ]
     },
     "metadata": {
      "needs_background": "light"
     },
     "output_type": "display_data"
    }
   ],
   "source": [
    "T0=np.array([276,279,282,284,290,295,298,305,320,360])\n",
    "T1=T0+273\n",
    "T2=1/T1\n",
    "R0=np.array([18950,17200,14950,13100,10930,9020,6960,4950,3100,950])\n",
    "R1=np.log(R0)\n",
    "\n",
    "x=np.linspace(900,20000,100)\n",
    "x1=np.log(x)\n",
    "y=np.polyval(cubic,x1)\n",
    "y1=1/y\n",
    "\n",
    "cubic=np.polyfit(R1,T2,3)\n",
    "cubic_round=np.round(cubic,10)\n",
    "\n",
    "plt.plot(T1,R0,\"ro\")\n",
    "plt.plot(y1,x,\"b-\")\n",
    "\n",
    "print(\"Material Constants are : A=\" , cubic_round[0], \"B=\" , cubic_round[1], \"C=\", cubic_round[2], \"D=\", cubic_round[3])"
   ]
  },
  {
   "cell_type": "markdown",
   "metadata": {},
   "source": [
    "**PROBLEM 2:** The Langevin function arises commonly in describing paramagnetism, and is given as:\n",
    "\n",
    "$$ L(m) = \\frac{e^{m}+e^{-m}}{e^{m}-e^{-m}} - \\frac{1}{m}$$\n",
    "\n",
    "Find the value of $m$ for which the Langevin function is equal to one half. Copy and use the bisection method developed in lecture/tutorial and verify your result with the inbuilt `fsolve` function."
   ]
  },
  {
   "cell_type": "code",
   "execution_count": 5,
   "metadata": {},
   "outputs": [
    {
     "name": "stdout",
     "output_type": "stream",
     "text": [
      "Bisection gives 1.7967548370361328\n",
      "fsolve gives [1.79675598]\n"
     ]
    }
   ],
   "source": [
    "#correct ans"
   ]
  },
  {
   "cell_type": "code",
   "execution_count": 31,
   "metadata": {},
   "outputs": [
    {
     "name": "stdout",
     "output_type": "stream",
     "text": [
      "1.796755984723713\n"
     ]
    }
   ],
   "source": [
    "#bisection\n",
    "f=lambda m: (((np.exp(m)+np.exp(-m))/(np.exp(m)-np.exp(-m)))-(1/m))-(1/2)\n",
    "a=1\n",
    "b=5\n",
    "\n",
    "for i in range(100):\n",
    "    x_est=(a+b)/2\n",
    "    \n",
    "    if f(a)*f(x_est)<0: \n",
    "        b=x_est\n",
    "    else: \n",
    "        a=x_est\n",
    "\n",
    "print(x_est)"
   ]
  },
  {
   "cell_type": "code",
   "execution_count": 4,
   "metadata": {},
   "outputs": [
    {
     "name": "stdout",
     "output_type": "stream",
     "text": [
      "[1.79675598]\n"
     ]
    }
   ],
   "source": [
    "#fsolve\n",
    "import scipy.optimize as so\n",
    "\n",
    "def f(m): \n",
    "    ans = (((np.exp(m)+np.exp(-m))/(np.exp(m)-np.exp(-m)))-(1/m))-(1/2)\n",
    "    return ans \n",
    "\n",
    "ans = so.fsolve(f,2)\n",
    "print(ans)"
   ]
  },
  {
   "cell_type": "markdown",
   "metadata": {},
   "source": [
    "**PROBLEM 3:** Do the ice cream cone problem we briefly discussed during lecture. The volume of ice cream in a cone is\n",
    "\n",
    "$$V = \\pi \\left( \\frac{r^2 h}{3} + \\frac{r^2 H}{2} + \\frac{H^3}{6} \\right), $$\n",
    "\n",
    "where $h$ and $r$ are the height and radius of the waffle cone, and $H$ is the height to which the ice cream sticks out of the cone. \n",
    "\n",
    "A typical waffle cone is an inch in radius and four inches tall. How much would one-third of a pint of ice cream stick out of the cone? 1 US pint = 28.875 cubic inches. Copy and use the Newton's method developed in lecture/tutorial and verify your result with the inbuilt `fsolve` function."
   ]
  },
  {
   "cell_type": "code",
   "execution_count": 9,
   "metadata": {},
   "outputs": [
    {
     "name": "stdout",
     "output_type": "stream",
     "text": [
      "Newton gives 1.7312247160088503\n",
      "fsolve gives [1.73122477]\n"
     ]
    }
   ],
   "source": [
    "#correct ans"
   ]
  },
  {
   "cell_type": "code",
   "execution_count": 36,
   "metadata": {},
   "outputs": [
    {
     "name": "stdout",
     "output_type": "stream",
     "text": [
      "1.731224768962972\n"
     ]
    }
   ],
   "source": [
    "#newtons\n",
    "p=28.875\n",
    "r=1\n",
    "h=4\n",
    "#tol=1e-6 \n",
    "x_est = 3\n",
    "\n",
    "f=lambda H: np.pi*(((r**2*h)/3)+((r**2*H)/2)+(H**3/6))-(p/3)\n",
    "fder = lambda H: np.pi*((r**2+H**2)/2)\n",
    "\n",
    "for i in range(100):\n",
    "    x_est-= f(x_est)/fder(x_est)\n",
    "    if np.abs(f(x_est))<tol:\n",
    "        break\n",
    "print(x_est)"
   ]
  },
  {
   "cell_type": "code",
   "execution_count": 37,
   "metadata": {},
   "outputs": [
    {
     "name": "stdout",
     "output_type": "stream",
     "text": [
      "[1.73122477]\n"
     ]
    }
   ],
   "source": [
    "#fsolve\n",
    "import scipy.optimize as so\n",
    "\n",
    "r=1\n",
    "h=4\n",
    "\n",
    "def f(H): \n",
    "    ans = np.pi*(((r**2*h)/3)+((r**2*H)/2)+(H**3/6))-(p/3)\n",
    "    return ans \n",
    "\n",
    "ans = so.fsolve(f,3)\n",
    "print(ans)"
   ]
  },
  {
   "cell_type": "markdown",
   "metadata": {},
   "source": [
    "*Rough work/test cells (won't be graded):*"
   ]
  },
  {
   "cell_type": "code",
   "execution_count": 34,
   "metadata": {},
   "outputs": [
    {
     "name": "stdout",
     "output_type": "stream",
     "text": [
      "0.4999999990862385\n"
     ]
    }
   ],
   "source": [
    "m=1.79675598\n",
    "z=(np.e**m+np.e**-m)/(np.e**m-np.e**-m)-(1/m)\n",
    "print(z)"
   ]
  },
  {
   "cell_type": "code",
   "execution_count": 51,
   "metadata": {},
   "outputs": [
    {
     "name": "stdout",
     "output_type": "stream",
     "text": [
      "5.9191894201406035\n"
     ]
    }
   ],
   "source": [
    "r=1\n",
    "h=4\n",
    "H=1.7312247160088503\n",
    "z=np.pi*((r**2*h)/3)+((r**2*H)/2)+(H**3/6)\n",
    "print(z)"
   ]
  },
  {
   "cell_type": "code",
   "execution_count": 31,
   "metadata": {},
   "outputs": [],
   "source": []
  },
  {
   "cell_type": "code",
   "execution_count": 30,
   "metadata": {},
   "outputs": [
    {
     "name": "stdout",
     "output_type": "stream",
     "text": [
      "2.8832025779761725\n"
     ]
    }
   ],
   "source": [
    "f=lambda H: np.pi*((r**2*h)/3)+((r**2*H)/2)+(H**3/6)-((1/3)*28.875)\n",
    "a=1\n",
    "b=5\n",
    "\n",
    "for i in range(100):\n",
    "    x_est=(a+b)/2\n",
    "    \n",
    "    if f(a)*f(x_est)<0: \n",
    "        b=x_est\n",
    "    else: \n",
    "        a=x_est\n",
    "\n",
    "print(x_est)"
   ]
  },
  {
   "cell_type": "code",
   "execution_count": null,
   "metadata": {},
   "outputs": [],
   "source": []
  },
  {
   "cell_type": "code",
   "execution_count": null,
   "metadata": {},
   "outputs": [],
   "source": []
  }
 ],
 "metadata": {
  "kernelspec": {
   "display_name": "Python 3 (ipykernel)",
   "language": "python",
   "name": "python3"
  },
  "language_info": {
   "codemirror_mode": {
    "name": "ipython",
    "version": 3
   },
   "file_extension": ".py",
   "mimetype": "text/x-python",
   "name": "python",
   "nbconvert_exporter": "python",
   "pygments_lexer": "ipython3",
   "version": "3.9.7"
  }
 },
 "nbformat": 4,
 "nbformat_minor": 4
}
