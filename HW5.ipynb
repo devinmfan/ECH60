{
 "cells": [
  {
   "cell_type": "markdown",
   "metadata": {},
   "source": [
    "# ECH 60 Spring 2022: HW 5\n",
    "\n",
    "Rename this file as lastname_firstname and upload to canvas before 5pm Friday, May 27th.\n",
    "<font color='red'> Total 4 points</font>. Partial points will be awarded ONLY IF a reasonable attempt has been made."
   ]
  },
  {
   "cell_type": "markdown",
   "metadata": {},
   "source": [
    "**PROBLEM 1:** Velocity of a fluid flowing within a pipe of circular cross-section as measured at a radial location $r$ from the center is given as \n",
    "\n",
    "$$\\begin{matrix} \n",
    "{\\rm r~({\\rm cm})} & 0.0 & 0.25 & 0.5  & 0.75 & 1.0 & 1.25 & 1.5 & 1.75 & 2.0 \\\\\n",
    "{\\rm u~({\\rm cm/s)}} & 3.8 & 3.76 & 3.62 & 3.36 & 2.97 & 2.45 & 1.78& 0.96 & 0.0\\\\\n",
    "        \\end{matrix}$$\n",
    "        \n",
    "The flow rate (with units of cubic centimters per second in this case) is given by the area integral of the velocity across the circular cross section of the pipe (of radius $R$): \n",
    "\n",
    "$$Q=\\int_A u(r)\\, dA$$\n",
    "\n",
    "Numerically integrate and find the flow rate."
   ]
  },
  {
   "cell_type": "code",
   "execution_count": 2,
   "metadata": {},
   "outputs": [
    {
     "name": "stdout",
     "output_type": "stream",
     "text": [
      "Flow rate is 24.98\n"
     ]
    }
   ],
   "source": [
    "import numpy as np\n",
    "import matplotlib.pyplot as plt\n",
    "import scipy.integrate as si\n",
    "r=np.arange(0,2.1,.25)\n",
    "u=np.array([3.8,3.76,3.62,3.36,2.97,2.45,1.78,.96,0])\n",
    "z=u*r\n",
    "flow_rate=si.simps(z,2*np.pi*r)\n",
    "print(\"Flow rate is %.2f\" %flow_rate)"
   ]
  },
  {
   "cell_type": "markdown",
   "metadata": {},
   "source": [
    "**PROBLEM 2:** Solve the following differential equation using the Heun method, the RK4 method, and using `odeint`:\n",
    "\n",
    "$$(1+t^2)e^{y^2/2}\\frac{dy}{dt}+\\cos(t)=0$$\n",
    "\n",
    "with initial condition $y(t=0)=1$ for $t$ from $0$ to $10$. Use time steps of $0.5$. Plot all three results on the same graph with a legend."
   ]
  },
  {
   "cell_type": "code",
   "execution_count": 8,
   "metadata": {},
   "outputs": [
    {
     "data": {
      "image/png": "[encoded data removed]",
      "text/plain": [
       "<Figure size 576x576 with 1 Axes>"
      ]
     },
     "metadata": {
      "needs_background": "light"
     },
     "output_type": "display_data"
    }
   ],
   "source": [
    "def f(y,t): return -np.cos(t)/((1+t**2)*np.exp(y**2/2))\n",
    "\n",
    "h=0.5\n",
    "t=np.arange(0,10+h,h)\n",
    "y=np.zeros(t.shape)\n",
    "y[0]=0\n",
    "for i in range(len(t)-1):\n",
    "    k1=f(y[i],t[i])\n",
    "    k2=f(y[i]+h*k1,t[i]+h)\n",
    "    k=(k1+k2)/2\n",
    "    y[i+1]=y[i]+h*k\n",
    "plt.figure(figsize=(8,8))\n",
    "plt.plot(t,y,'b-',label='Heun')\n",
    "plt.xlabel('t')\n",
    "plt.ylabel('y(t)')\n",
    "plt.legend()\n",
    "\n",
    "h=0.5\n",
    "t=np.arange(0,10+h,h)\n",
    "y=np.zeros(t.shape)\n",
    "y[0]=0\n",
    "for i in range(len(t)-1):\n",
    "    k1=f(y[i],t[i])\n",
    "    k2=f(y[i]+h*k1/2,t[i]+h/2)\n",
    "    k3=f(y[i]+h*k2/2,t[i]+h/2)\n",
    "    k4=f(y[i]+h*k3,t[i]+h)\n",
    "    k=(k1+2*k2+2*k3+k4)/6\n",
    "    y[i+1]=y[i]+h*k\n",
    "plt.plot(t,y,'ko',label='RK4')\n",
    "plt.xlabel('t')\n",
    "plt.ylabel('y(t)')\n",
    "plt.legend()\n",
    "\n",
    "y0=0\n",
    "h=0.5\n",
    "t=np.arange(0,10+h,h)\n",
    "y = si.odeint(f,y0,t)\n",
    "plt.plot(t,y,'r--',label='odeint')\n",
    "plt.legend()\n",
    "plt.show()\n"
   ]
  },
  {
   "cell_type": "code",
   "execution_count": null,
   "metadata": {},
   "outputs": [],
   "source": []
  },
  {
   "cell_type": "code",
   "execution_count": null,
   "metadata": {},
   "outputs": [],
   "source": []
  },
  {
   "cell_type": "code",
   "execution_count": null,
   "metadata": {},
   "outputs": [],
   "source": []
  },
  {
   "cell_type": "markdown",
   "metadata": {},
   "source": [
    "*Rough work/test cells (won't be graded):*"
   ]
  },
  {
   "cell_type": "code",
   "execution_count": null,
   "metadata": {},
   "outputs": [],
   "source": []
  },
  {
   "cell_type": "code",
   "execution_count": null,
   "metadata": {},
   "outputs": [],
   "source": []
  },
  {
   "cell_type": "code",
   "execution_count": null,
   "metadata": {},
   "outputs": [],
   "source": []
  },
  {
   "cell_type": "code",
   "execution_count": null,
   "metadata": {},
   "outputs": [],
   "source": []
  }
 ],
 "metadata": {
  "kernelspec": {
   "display_name": "Python 3 (ipykernel)",
   "language": "python",
   "name": "python3"
  },
  "language_info": {
   "codemirror_mode": {
    "name": "ipython",
    "version": 3
   },
   "file_extension": ".py",
   "mimetype": "text/x-python",
   "name": "python",
   "nbconvert_exporter": "python",
   "pygments_lexer": "ipython3",
   "version": "3.9.7"
  }
 },
 "nbformat": 4,
 "nbformat_minor": 4
}
