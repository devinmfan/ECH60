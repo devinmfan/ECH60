{
 "cells": [
  {
   "cell_type": "markdown",
   "metadata": {},
   "source": [
    "# ECH 60 Spring 2022: QUIZ 3\n",
    "\n",
    "<font color='red'> Total 6+4.5+2=12.5 points </font>\n",
    "\n",
    "Stop working on this quiz within 45 minutes of starting it. Rename this file as lastname_firstname and upload to canvas in the correct ipynb format within an hour of your section start time. Partial points will be awarded ONLY IF a reasonably accurate attempt has been made. "
   ]
  },
  {
   "cell_type": "markdown",
   "metadata": {},
   "source": [
    "You may consult your notes, lecture material, or tutorials. You must NOT consult any other sources. You should NOT seek help from anyone else for the duration of the quiz. And you should NOT share or discuss questions with other sections after your quiz. Any violation of these rules will be treated as academic misconduct, and  will be reported as such to the office of student support and judicial affairs.\n",
    "\n",
    "Acknowledge abiding by these rules by writing a single line of code to print your name:"
   ]
  },
  {
   "cell_type": "code",
   "execution_count": 1,
   "metadata": {},
   "outputs": [
    {
     "name": "stdout",
     "output_type": "stream",
     "text": [
      "Devin Fan\n"
     ]
    }
   ],
   "source": [
    "print(\"Devin Fan\")"
   ]
  },
  {
   "cell_type": "markdown",
   "metadata": {},
   "source": [
    "**PROBLEM 0:** First, execute the following code cell to import modules and load functions we have developed in past lectures or tutorials."
   ]
  },
  {
   "cell_type": "code",
   "execution_count": 2,
   "metadata": {},
   "outputs": [],
   "source": [
    "import numpy as np\n",
    "import numpy.linalg as la\n",
    "import matplotlib.pyplot as plt\n",
    "import scipy.optimize as so\n",
    "\n",
    "# linfit(xdata,ydata) returns a,b such that ydata=a+b*xdata\n",
    "def linfit(x,y):\n",
    "    n=len(x)\n",
    "    sx=sum(x)\n",
    "    sy=sum(y)\n",
    "    sxx=sum(x**2)\n",
    "    sxy=sum(x*y)\n",
    "\n",
    "    a=(sx*sxy-sy*sxx)/(sx**2-n*sxx)\n",
    "    b=(sx*sy-n*sxy)/(sx**2-n*sxx)\n",
    "    return a,b\n",
    "\n",
    "\n",
    "\n",
    "# expfit(xdata,ydata) returns C,D such that ydata=C*exp(D*xdata)\n",
    "def expfit(x,y):\n",
    "    mod_y=np.log(y)\n",
    "    a,b=linfit(x,mod_y)\n",
    "    return np.exp(a),b\n",
    "\n",
    "\n",
    "\n",
    "\n",
    "# Newton(function,derivative,initial guess,tolerance,maximum number of iterations) \n",
    "# returns root of the provided function\n",
    "def Newton(f,fder,x_0,tol,max_iter):    \n",
    "    x_est=x_0    \n",
    "    for i in range(max_iter):\n",
    "        x_est-=f(x_est)/fder(x_est) \n",
    "        \n",
    "        if np.abs(f(x_est))<tol:\n",
    "            break\n",
    "    if i==max_iter-1: \n",
    "        print('No solution after %d iterations' %max_iter)\n",
    "        return\n",
    "    else:\n",
    "        return x_est"
   ]
  },
  {
   "cell_type": "markdown",
   "metadata": {},
   "source": [
    "**PROBLEM 1:**  <font color='red'> [Total 6 points] </font>\n",
    "\n",
    "\n",
    "\n",
    "**1 (a):** With just one line of code, create a python function to represent the equation $ x^3 -2x - e^{x} = -2 $ in the form $f(x) =  \\ldots$. \n",
    "\n",
    "<font color='green'> [0.5 point] </font>"
   ]
  },
  {
   "cell_type": "code",
   "execution_count": 7,
   "metadata": {},
   "outputs": [
    {
     "data": {
      "text/plain": [
       "-1.718281828459045"
      ]
     },
     "execution_count": 7,
     "metadata": {},
     "output_type": "execute_result"
    }
   ],
   "source": [
    "def f(x): return x**3-2*x-np.exp(x)+2\n",
    "f(1)"
   ]
  },
  {
   "cell_type": "markdown",
   "metadata": {},
   "source": [
    "**1 (b):**  With just one line of code, create a python function to represent the derivative of $f(x)$ from part (a) above. \n",
    "\n",
    "<font color='green'> [0.5 point] </font>"
   ]
  },
  {
   "cell_type": "code",
   "execution_count": 131,
   "metadata": {},
   "outputs": [
    {
     "data": {
      "text/plain": [
       "2.6109439010693496"
      ]
     },
     "execution_count": 131,
     "metadata": {},
     "output_type": "execute_result"
    }
   ],
   "source": [
    "def f_der(x): return -np.exp(x)+3*x**2-2\n",
    "f_der(2)"
   ]
  },
  {
   "cell_type": "markdown",
   "metadata": {},
   "source": [
    "**1 (c):** Plot $f(x)$. Choose the $x$ limits such that all crossings with the x-axis are clearly visible. \n",
    "\n",
    "<font color='green'> [1 point] </font>"
   ]
  },
  {
   "cell_type": "code",
   "execution_count": 42,
   "metadata": {},
   "outputs": [],
   "source": [
    "x=np.linspace(2,100,20)\n",
    "#plt.plot(f,x)"
   ]
  },
  {
   "cell_type": "markdown",
   "metadata": {},
   "source": [
    "**1 (d):** Use Newton's method (use the function defined in the beginning) to find all roots up to 8 decimal points of tolerance using approximate initial guesses based on the plot above. Use one line of code for each root.\n",
    "\n",
    "<font color='green'> [2 points] </font>"
   ]
  },
  {
   "cell_type": "code",
   "execution_count": 132,
   "metadata": {
    "scrolled": true
   },
   "outputs": [
    {
     "name": "stdout",
     "output_type": "stream",
     "text": [
      "No solution after 100 iterations\n",
      "No solution after 100 iterations\n"
     ]
    }
   ],
   "source": [
    "Newton(f,f_der,5,1e-8,100)\n",
    "Newton(f,f_der,1,1e-8,100)"
   ]
  },
  {
   "cell_type": "markdown",
   "metadata": {},
   "source": [
    "**1(e):** Use `fsolve` to find all roots in one shot: only one line of code necessary.\n",
    "\n",
    "<font color='green'> [1 point] </font>"
   ]
  },
  {
   "cell_type": "code",
   "execution_count": 22,
   "metadata": {},
   "outputs": [
    {
     "data": {
      "text/plain": [
       "array([1.43997643, 3.61843727])"
      ]
     },
     "execution_count": 22,
     "metadata": {},
     "output_type": "execute_result"
    }
   ],
   "source": [
    "so.fsolve(f,(1,5))"
   ]
  },
  {
   "cell_type": "markdown",
   "metadata": {},
   "source": [
    "**1(f):** Use `fsolve` to find the location of the maxima of $f(x)$ near $x=4$. \n",
    "\n",
    "<font color='green'> [1 point] </font>"
   ]
  },
  {
   "cell_type": "code",
   "execution_count": 27,
   "metadata": {},
   "outputs": [
    {
     "data": {
      "text/plain": [
       "array([3.61843727])"
      ]
     },
     "execution_count": 27,
     "metadata": {},
     "output_type": "execute_result"
    }
   ],
   "source": [
    "so.fsolve(f_der,4)"
   ]
  },
  {
   "cell_type": "markdown",
   "metadata": {},
   "source": [
    "**PROBLEM 2:** <font color='red'> [Total 4.5 points] </font>\n",
    "\n",
    "\n",
    "\n",
    "**2(a):** The oxidation rates of methane changes with temperature. Experiments show the following data:\n",
    "\n",
    "$$\\begin{matrix} {\\rm temperature~(T)~in~Kelvin} & 595 & 623 & 761 & 849 & 989 & 1076 & 1146 & 1202 & 1382 & 1445 & 1562\\\\{\\rm reaction~rate~(k)}& 2.12 &  3.12 & 14.4 & 30.6 & 80.3 & 131 & 186 & 240 & 489 & 604 & 868 \\end{matrix}$$\n",
    "\n",
    "Rate constants typically follow the Arrhenius equation: $k=Ae^{-B/T}$.  Using this information, plot the given data with the correct type of linear/log/reciprocal axis such that it looks like a straight line. Provide the correct axis labels. \n",
    "\n",
    "<font color='green'> [3 points] </font>"
   ]
  },
  {
   "cell_type": "code",
   "execution_count": 112,
   "metadata": {
    "scrolled": true
   },
   "outputs": [
    {
     "name": "stderr",
     "output_type": "stream",
     "text": [
      "/var/folders/22/g0lkw7px703_ymv0l30dq4p80000gn/T/ipykernel_96296/3401774503.py:2: RuntimeWarning: overflow encountered in exp\n",
      "  T1=np.exp(T)\n"
     ]
    },
    {
     "data": {
      "image/png": "[encoded data removed]",
      "text/plain": [
       "<Figure size 432x288 with 1 Axes>"
      ]
     },
     "metadata": {
      "needs_background": "light"
     },
     "output_type": "display_data"
    }
   ],
   "source": [
    "T=np.array([595,623,761,849,989,1076,1146,1202,1382,1445,1562])\n",
    "T1=np.exp(T)\n",
    "k=np.array([2.12,3.12,14.4,30.6,80.3,131,186,240,489,604,868])\n",
    "x=np.linspace(100,20000,100)\n",
    "plt.xlabel('Tempature in Kelvin')\n",
    "plt.ylabel('Reaction Rate (k)')\n",
    "plt.scatter(T,k)\n",
    "plt.show()"
   ]
  },
  {
   "cell_type": "markdown",
   "metadata": {},
   "source": [
    "**2(b):**  Fit this data set to find the Arrhenius constants $A$ and $B$. Use any fitting functions provided in the beginning.\n",
    "\n",
    "<font color='green'> [1.5 points] </font>"
   ]
  },
  {
   "cell_type": "code",
   "execution_count": 115,
   "metadata": {},
   "outputs": [
    {
     "name": "stderr",
     "output_type": "stream",
     "text": [
      "/var/folders/22/g0lkw7px703_ymv0l30dq4p80000gn/T/ipykernel_96296/2624548432.py:11: RuntimeWarning: overflow encountered in square\n",
      "  sxx=sum(x**2)\n",
      "/var/folders/22/g0lkw7px703_ymv0l30dq4p80000gn/T/ipykernel_96296/2624548432.py:14: RuntimeWarning: invalid value encountered in double_scalars\n",
      "  a=(sx*sxy-sy*sxx)/(sx**2-n*sxx)\n",
      "/var/folders/22/g0lkw7px703_ymv0l30dq4p80000gn/T/ipykernel_96296/2624548432.py:15: RuntimeWarning: invalid value encountered in double_scalars\n",
      "  b=(sx*sy-n*sxy)/(sx**2-n*sxx)\n"
     ]
    },
    {
     "data": {
      "text/plain": [
       "(nan, nan)"
      ]
     },
     "execution_count": 115,
     "metadata": {},
     "output_type": "execute_result"
    }
   ],
   "source": [
    "linfit(T1,k)"
   ]
  },
  {
   "cell_type": "markdown",
   "metadata": {},
   "source": [
    "**PROBLEM 3:** <font color='red'> [Total 2 points] </font>\n",
    "\n",
    "A model for the size $s$ of a tumor at time $t$ is \n",
    "## $$ s(t) = s_m e^{k e^{-rt}}$$\n",
    "where $k=\\ln (s_0/s_m)$ such that $s_0$ is the initial tumor size, $s_m$ is the maximum possible size, and $r$ is the rate of tumor growth. If $s_0=1$, $s_m=10$, and $r=0.05$, find the time when the tumor is five times as big as its initial size using `fsolve`."
   ]
  },
  {
   "cell_type": "code",
   "execution_count": 3,
   "metadata": {},
   "outputs": [
    {
     "ename": "AttributeError",
     "evalue": "'int' object has no attribute 'fsolve'",
     "output_type": "error",
     "traceback": [
      "\u001b[0;31m---------------------------------------------------------------------------\u001b[0m",
      "\u001b[0;31mAttributeError\u001b[0m                            Traceback (most recent call last)",
      "\u001b[0;32m/var/folders/22/g0lkw7px703_ymv0l30dq4p80000gn/T/ipykernel_96627/2840819215.py\u001b[0m in \u001b[0;36m<module>\u001b[0;34m\u001b[0m\n\u001b[1;32m      4\u001b[0m \u001b[0mr\u001b[0m\u001b[0;34m=\u001b[0m\u001b[0;36m0.05\u001b[0m\u001b[0;34m\u001b[0m\u001b[0;34m\u001b[0m\u001b[0m\n\u001b[1;32m      5\u001b[0m \u001b[0;32mdef\u001b[0m \u001b[0ms\u001b[0m\u001b[0;34m(\u001b[0m\u001b[0mt\u001b[0m\u001b[0;34m)\u001b[0m\u001b[0;34m:\u001b[0m \u001b[0;32mreturn\u001b[0m \u001b[0;34m(\u001b[0m\u001b[0msm\u001b[0m\u001b[0;34m*\u001b[0m\u001b[0;34m(\u001b[0m\u001b[0mnp\u001b[0m\u001b[0;34m.\u001b[0m\u001b[0mexp\u001b[0m\u001b[0;34m(\u001b[0m\u001b[0mk\u001b[0m\u001b[0;34m*\u001b[0m\u001b[0mnp\u001b[0m\u001b[0;34m.\u001b[0m\u001b[0mexp\u001b[0m\u001b[0;34m(\u001b[0m\u001b[0;34m-\u001b[0m\u001b[0mr\u001b[0m\u001b[0;34m*\u001b[0m\u001b[0mt\u001b[0m\u001b[0;34m)\u001b[0m\u001b[0;34m)\u001b[0m\u001b[0;34m)\u001b[0m\u001b[0;34m)\u001b[0m\u001b[0;34m-\u001b[0m\u001b[0;36m5\u001b[0m\u001b[0;34m\u001b[0m\u001b[0;34m\u001b[0m\u001b[0m\n\u001b[0;32m----> 6\u001b[0;31m \u001b[0mso\u001b[0m\u001b[0;34m.\u001b[0m\u001b[0mfsolve\u001b[0m\u001b[0;34m(\u001b[0m\u001b[0ms\u001b[0m\u001b[0;34m(\u001b[0m\u001b[0mt\u001b[0m\u001b[0;34m)\u001b[0m\u001b[0;34m,\u001b[0m\u001b[0;36m5\u001b[0m\u001b[0;34m)\u001b[0m\u001b[0;34m\u001b[0m\u001b[0;34m\u001b[0m\u001b[0m\n\u001b[0m",
      "\u001b[0;31mAttributeError\u001b[0m: 'int' object has no attribute 'fsolve'"
     ]
    }
   ],
   "source": [
    "so=1\n",
    "sm=10\n",
    "k=np.log(so/sm)\n",
    "r=0.05\n",
    "def s(t): return (sm*(np.exp(k*np.exp(-r*t))))-5\n",
    "so.fsolve(s(t),5)"
   ]
  },
  {
   "cell_type": "markdown",
   "metadata": {},
   "source": [
    "*Rough work/test cells (won't be graded):*"
   ]
  },
  {
   "cell_type": "code",
   "execution_count": null,
   "metadata": {},
   "outputs": [],
   "source": []
  },
  {
   "cell_type": "code",
   "execution_count": null,
   "metadata": {},
   "outputs": [],
   "source": []
  },
  {
   "cell_type": "code",
   "execution_count": null,
   "metadata": {},
   "outputs": [],
   "source": []
  }
 ],
 "metadata": {
  "kernelspec": {
   "display_name": "Python 3 (ipykernel)",
   "language": "python",
   "name": "python3"
  },
  "language_info": {
   "codemirror_mode": {
    "name": "ipython",
    "version": 3
   },
   "file_extension": ".py",
   "mimetype": "text/x-python",
   "name": "python",
   "nbconvert_exporter": "python",
   "pygments_lexer": "ipython3",
   "version": "3.9.7"
  }
 },
 "nbformat": 4,
 "nbformat_minor": 4
}
