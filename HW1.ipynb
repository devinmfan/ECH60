{
 "cells": [
  {
   "cell_type": "markdown",
   "metadata": {},
   "source": [
    "# ECH 60 Spring 2022: HW 1\n",
    "\n",
    "Rename this file as lastname_firstname_hw1 and upload to canvas before 5pm Friday, April 1st.\n",
    "<font color='red'> Total 4 points</font>. Partial points will be awarded ONLY IF a reasonable attempt has been made."
   ]
  },
  {
   "cell_type": "markdown",
   "metadata": {},
   "source": [
    "**PROBLEM 0:** Create two string variables `first_name` and `last_name` and assign it values corresponding to your name. Print your full name by appending these strings with a space between them. "
   ]
  },
  {
   "cell_type": "code",
   "execution_count": 2,
   "metadata": {},
   "outputs": [
    {
     "name": "stdout",
     "output_type": "stream",
     "text": [
      "Devin Fan\n"
     ]
    }
   ],
   "source": [
    "str1 = \"Devin\"\n",
    "str2 = \"Fan\"\n",
    "print(str1 + \" \" + str2)"
   ]
  },
  {
   "cell_type": "markdown",
   "metadata": {},
   "source": [
    "**PROBLEM 1:** Newton's law of cooling states that the rate of heat loss of a body is directly proportional to the difference in the temperatures between the body and its surroundings. This implies that the temperature $T$ of a cup of coffee at time $t$ is $$T(t)=T_{\\rm env} + \\left( T(0) -T_{\\rm env} \\right) e^{-r t},$$ where $T_{\\rm env}$ is the surrounding environmental temperature, $T(0)$ is the initial coffee temperature at time $t=0$, and $r$ is a rate constant.\n",
    "\n",
    "Write a function that takes as inputs $T_{\\rm env}$ and $T(0)$ (assume they are provided in Celsius) and the time $t$ in seconds, and provides $T(t)$ as output. Use $r=0.003 ~s^{-1}$. \n",
    "\n",
    "Create another code cell and test if your function works: find the temperature of an object after $100$ seconds that starts at $70$ degrees when the surroundings are at $20$ degrees."
   ]
  },
  {
   "cell_type": "code",
   "execution_count": 64,
   "metadata": {},
   "outputs": [
    {
     "data": {
      "text/plain": [
       "57.040911034085894"
      ]
     },
     "execution_count": 64,
     "metadata": {},
     "output_type": "execute_result"
    }
   ],
   "source": [
    "import numpy as np\n",
    "r = .003\n",
    "def coffee_temp(tenv,t0,t):\n",
    "    temp = tenv + (t0-tenv)*(np.exp(1)**(-r*t))\n",
    "    return temp\n",
    "coffee_temp(20,70,100)"
   ]
  },
  {
   "cell_type": "markdown",
   "metadata": {},
   "source": [
    "Next, rewrite the same function using a `lambda` function:"
   ]
  },
  {
   "cell_type": "code",
   "execution_count": 49,
   "metadata": {},
   "outputs": [
    {
     "name": "stdout",
     "output_type": "stream",
     "text": [
      "57.040911034085894\n"
     ]
    }
   ],
   "source": [
    "coffee_temp = lambda tenv,t0,t : tenv + (t0-tenv)*(np.exp(1)**(-r*t))\n",
    "print(coffee_temp(20,70,100))"
   ]
  },
  {
   "cell_type": "markdown",
   "metadata": {},
   "source": [
    "Now, modify your original function such that instead of returning the variable $T$, the output is a print statement which reads \"The temperature after x seconds is y degrees\" with x and y replaced by the numerical values:"
   ]
  },
  {
   "cell_type": "code",
   "execution_count": null,
   "metadata": {},
   "outputs": [],
   "source": [
    "r = .003\n",
    "def coffee_temp(tenv,t0,t):\n",
    "    temp = tenv + (t0-tenv)*(np.exp(1)**(-r*t))\n",
    "    return temp\n",
    "print(\"The temperature after \"+ str(t) +\" seconds is \" + str(coffee_temp(20,70,100)) + \" degrees\")"
   ]
  },
  {
   "cell_type": "markdown",
   "metadata": {},
   "source": [
    "**PROBLEM 2:** Write a function that, given the radius $r$ of a sphere, returns it surface area and volume. When you call the function to test it, the output must be 'unpacked' into two variables with names `test_area` and `test_volume`:"
   ]
  },
  {
   "cell_type": "code",
   "execution_count": 2,
   "metadata": {},
   "outputs": [
    {
     "data": {
      "text/plain": [
       "(1256.6370614359173, 4188.790204786391)"
      ]
     },
     "execution_count": 2,
     "metadata": {},
     "output_type": "execute_result"
    }
   ],
   "source": [
    "import numpy\n",
    "def get_sa_and_volume(r):\n",
    "    test_area = 4*numpy.pi*(r**2)\n",
    "    test_volume = (4/3)*numpy.pi*(r**3)\n",
    "    return test_area, test_volume\n",
    "get_sa_and_volume(10)"
   ]
  },
  {
   "cell_type": "markdown",
   "metadata": {},
   "source": [
    "Modify the function to have a check for a negative value of radius. If the entered value of `r` is negative, the function should be designed print an error message of your choice. "
   ]
  },
  {
   "cell_type": "code",
   "execution_count": 3,
   "metadata": {},
   "outputs": [
    {
     "data": {
      "text/plain": [
       "(1256.6370614359173, 4188.790204786391)"
      ]
     },
     "execution_count": 3,
     "metadata": {},
     "output_type": "execute_result"
    }
   ],
   "source": [
    "import numpy as np\n",
    "def get_sa_and_volume(r):\n",
    "    if r < 0:\n",
    "        print(\"Negative number, try again\")\n",
    "        return (0,0)\n",
    "    test_area = 4*np.pi*(r**2)\n",
    "    test_volume = (4/3)*np.pi*(r**3)\n",
    "    return test_area, test_volume\n",
    "get_sa_and_volume(10)"
   ]
  },
  {
   "cell_type": "markdown",
   "metadata": {},
   "source": [
    "*Rough work/test cells (won't be graded):*"
   ]
  },
  {
   "cell_type": "code",
   "execution_count": null,
   "metadata": {},
   "outputs": [],
   "source": []
  },
  {
   "cell_type": "code",
   "execution_count": null,
   "metadata": {},
   "outputs": [],
   "source": []
  },
  {
   "cell_type": "code",
   "execution_count": null,
   "metadata": {},
   "outputs": [],
   "source": []
  },
  {
   "cell_type": "code",
   "execution_count": null,
   "metadata": {},
   "outputs": [],
   "source": []
  },
  {
   "cell_type": "code",
   "execution_count": null,
   "metadata": {},
   "outputs": [],
   "source": []
  }
 ],
 "metadata": {
  "kernelspec": {
   "display_name": "Python 3 (ipykernel)",
   "language": "python",
   "name": "python3"
  },
  "language_info": {
   "codemirror_mode": {
    "name": "ipython",
    "version": 3
   },
   "file_extension": ".py",
   "mimetype": "text/x-python",
   "name": "python",
   "nbconvert_exporter": "python",
   "pygments_lexer": "ipython3",
   "version": "3.9.7"
  }
 },
 "nbformat": 4,
 "nbformat_minor": 4
}
