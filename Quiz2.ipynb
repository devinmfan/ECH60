{
 "cells": [
  {
   "cell_type": "markdown",
   "metadata": {
    "id": "jS-KC5EhtTf0"
   },
   "source": [
    "# Quiz 2\n",
    "\n",
    "You will have to upload your quiz to Canvas in the correct ipynb format within the 45 minute testing period. \n",
    "\n",
    "You may consult your notes, lecture material, homework assignments, discussion section material, and ECH 60 jupyter notebook web site (https://hmanikantan.github.io/ECH60/). You may use either Jupyter Notebook or Google Colab to complete your quiz. You must NOT consult any other sources. You should NOT seek help from anyone else for the duration of the quiz. And you should NOT share or discuss questions with other sections after your quiz. Any violation of these rules will be treated as academic misconduct and will be reported as such to the office of student support and judicial affairs.\n",
    "\n",
    "Partial points will be awarded ONLY IF a reasonably accurate attempt has been made. \n",
    "\n",
    "Acknowledge abiding by these rules by writing a single line of code to print your name:"
   ]
  },
  {
   "cell_type": "code",
   "execution_count": 1,
   "metadata": {
    "colab": {
     "base_uri": "https://localhost:8080/"
    },
    "id": "j8KN2Goa3luV",
    "outputId": "1ef02961-97f6-432a-da8c-69bcb589bd2d"
   },
   "outputs": [
    {
     "name": "stdout",
     "output_type": "stream",
     "text": [
      "Devin Fan\n"
     ]
    }
   ],
   "source": [
    "print('Devin Fan')"
   ]
  },
  {
   "cell_type": "markdown",
   "metadata": {
    "id": "bPLCqEAA-4WM"
   },
   "source": [
    "Question 1. Numerical integration. Evaluating a multi-dimensional integral $\\int_{-\\pi}^{\\pi}\\int_{-\\pi+x^2}^{\\pi+x^2} 2\\sin^2(x+y)\\cos^2(x+y)dydx$. [14 pts]"
   ]
  },
  {
   "cell_type": "markdown",
   "metadata": {
    "id": "rgCOLRnfwPQQ"
   },
   "source": [
    "(a) First, import all of the necessary python packages. [3 pts]"
   ]
  },
  {
   "cell_type": "code",
   "execution_count": 19,
   "metadata": {
    "id": "AiLndj_N-3qh"
   },
   "outputs": [],
   "source": [
    "import numpy as np\n",
    "import matplotlib.pyplot as plt\n",
    "import scipy \n",
    "import scipy.ndimage as sim\n",
    "import scipy.optimize as so"
   ]
  },
  {
   "cell_type": "markdown",
   "metadata": {
    "id": "sO3xYweswfXP"
   },
   "source": [
    "(b) Define the function $f(x,y)$. [1 pts]"
   ]
  },
  {
   "cell_type": "code",
   "execution_count": 7,
   "metadata": {
    "id": "wPivPzsOwkzq"
   },
   "outputs": [],
   "source": [
    "f = lambda x,y: 2*np.sin(x+y)**2*np.cos(x+y)**2"
   ]
  },
  {
   "cell_type": "markdown",
   "metadata": {
    "id": "gGQwY6N_wwqY"
   },
   "source": [
    "(c) Set spacing for $x$ to be 0.01. [1 pts]"
   ]
  },
  {
   "cell_type": "code",
   "execution_count": 8,
   "metadata": {
    "id": "t3cNm1qVxACr"
   },
   "outputs": [],
   "source": [
    "hx=0.01"
   ]
  },
  {
   "cell_type": "markdown",
   "metadata": {
    "id": "1s3Ns0JPxJwX"
   },
   "source": [
    "(d) Generate $x$ with the given interval defined in the integral. (Hint: You can use np.pi to express $\\pi$.) [1 pts]"
   ]
  },
  {
   "cell_type": "code",
   "execution_count": 9,
   "metadata": {
    "id": "NxnA0hNwxhUe"
   },
   "outputs": [
    {
     "name": "stdout",
     "output_type": "stream",
     "text": [
      "13.589144248050937\n"
     ]
    }
   ],
   "source": [
    "x=np.arange(-np.pi,np.pi+hx,hx)\n",
    "\n",
    "G=np.zeros(x.shape)\n",
    "# first compute integral along y, keeping x constant\n",
    "for i in range(len(x)):\n",
    "    y=np.linspace(-1-x[i]**2,1+x[i]**2,100)\n",
    "    hy=y[1]-y[0]\n",
    "    G[i]=hy*f(x[i],y[0])/2+hy*f(x[i],y[-1])/2+sum(hy*f(x[i],y[1:-1]))\n",
    "\n",
    "# then compute integral along x    \n",
    "I=hx*G[0]/2+hx*G[-1]/2+sum(hx*G[1:-1])\n",
    "\n",
    "print(I)"
   ]
  },
  {
   "cell_type": "markdown",
   "metadata": {
    "id": "S_DLOHqZxzti"
   },
   "source": [
    "(e) Use the trapezoid rule to calculate the integral and print out the integral value to 3 significant figures. [8 pts]"
   ]
  },
  {
   "cell_type": "code",
   "execution_count": 16,
   "metadata": {
    "id": "QVUKZzQYwNuy"
   },
   "outputs": [
    {
     "name": "stdout",
     "output_type": "stream",
     "text": [
      "The value is 9.89\n"
     ]
    }
   ],
   "source": [
    "hx=0.01\n",
    "hy=0.01\n",
    "\n",
    "x=np.arange(-np.pi,np.pi+hx,hx)\n",
    "y=np.arange(-np.pi,np.pi+hx,hx)\n",
    "\n",
    "# trapezoid rule along y\n",
    "G=np.zeros(x.shape)\n",
    "for i in range(len(x)):\n",
    "    G[i]= hy*sum(f(x[i],y[1:-1])) + hy*f(x[i],y[0])/2 + hy*f(x[i],y[-1])/2\n",
    "\n",
    "# integrate G along x\n",
    "I = hx*sum(G[1:-1]) + hx*G[0]/2 + hx*G[-1]/2\n",
    "\n",
    "print(\"The value is %.2f\" %I)"
   ]
  },
  {
   "cell_type": "markdown",
   "metadata": {
    "id": "S5QR4wk0UWHi"
   },
   "source": [
    "Question 2. Numerical integration. The arc length of a curve $f(x)$ between $a$ and $b$ is given by $L = \\int_{a}^{b} \\sqrt{1+[f'(x)]^2}dx$. [8 pts]\n",
    "\n",
    "(a) Make your function that returns two values: $L$ calculated from scipy.integrate.trapz and $L$ calculated from scipy.integrate.simps. The function should take $a$, $b$, and $h$ (the spacing for each interval between $a$ and $b$) as inputs. Assume $f(x) = sin(x)^2$. [6 pts]"
   ]
  },
  {
   "cell_type": "code",
   "execution_count": 54,
   "metadata": {
    "id": "o1jLj3VMUVpi"
   },
   "outputs": [],
   "source": [
    "funcder = lambda x: 2*np.cos(x)*np.sin(x)\n",
    "l = lambda x: np.sqrt(1+funcder**2)\n",
    "def numint(a,b,h):\n",
    "    scipy.integrate.trapz(l)\n",
    "    scipy.integrate.simps(l)\n",
    "    return l"
   ]
  },
  {
   "cell_type": "markdown",
   "metadata": {
    "id": "Wa6yrQyhWX-6"
   },
   "source": [
    "(b) Use your function to calculate the arc length given $a=0$, $b=\\pi$, and $h=\\pi/100$ and print out the results from the two integration methods to 4 significant figures. [2 pts]"
   ]
  },
  {
   "cell_type": "code",
   "execution_count": 56,
   "metadata": {
    "id": "AgiVnOYbWkqJ"
   },
   "outputs": [],
   "source": [
    "a=0\n",
    "b=np.pi\n",
    "h=np.pi/100\n",
    "numint(a,b,h)"
   ]
  },
  {
   "cell_type": "markdown",
   "metadata": {
    "id": "ISKXDhN7t_zR"
   },
   "source": [
    "Question 3. ODE: Initial value problem. Consider the following third-order ODE: $y^2\\frac{d^3y}{dx^3}+\\frac{d^2y}{dx^2}+y\\frac{dy}{dx} = 0$, where $y(0)=1$, $\\frac{dy}{dx} \\big|_{x=0}=1$, and $\\frac{d^2y}{dx^2} \\big|_{x=0}=1$. [13 pts]\n",
    "\n",
    "(a) Convert this third-order ODE to a coupled system of three first-order ODEs and define your function and express it as a function so that we can numerically solve it in the next steps. (Hint: Start with setting $w_1=\\frac{dy}{dx}$ and $w_2=\\frac{dw_1}{dx}$ and calculate $\\frac{dw_2}{dx}$.) [4 pts]"
   ]
  },
  {
   "cell_type": "code",
   "execution_count": 39,
   "metadata": {
    "id": "tmdwp6iBuI3E"
   },
   "outputs": [],
   "source": [
    "w1=y\n",
    "w2=1\n",
    "w3=y**2\n",
    "F = lambda Y,t:[w1*Y[0]+w2*Y[0]+w3*Y[0]]"
   ]
  },
  {
   "cell_type": "markdown",
   "metadata": {
    "id": "zP4KeJc_i182"
   },
   "source": [
    "(b) Express all three initial conditions as one single array. [1 pts]"
   ]
  },
  {
   "cell_type": "code",
   "execution_count": 40,
   "metadata": {
    "id": "CV6p47Xji_vw"
   },
   "outputs": [],
   "source": [
    "Y0=[1,1,1]"
   ]
  },
  {
   "cell_type": "markdown",
   "metadata": {
    "id": "s_6Slv0gjPVI"
   },
   "source": [
    "(c) Numerically solve the ODE using scipy.integrate.odeint for $x$ ranging from $0$ to $20$ in steps of $0.01$. [3 pts]"
   ]
  },
  {
   "cell_type": "code",
   "execution_count": 48,
   "metadata": {
    "id": "a8TBYD3Wjr-h"
   },
   "outputs": [],
   "source": [
    "h=0.01\n",
    "t=np.arange(0,20+h,h)\n",
    "scipy.integrate.odeint(F,Y0,t)"
   ]
  },
  {
   "cell_type": "markdown",
   "metadata": {
    "id": "a7TefZc2j6gp"
   },
   "source": [
    "(d) Plot your solution and make sure to include a title, an $x$-axis label, and a $y$-axis label. [5 pts]"
   ]
  },
  {
   "cell_type": "code",
   "execution_count": null,
   "metadata": {
    "id": "nLYh4PfqkDCJ"
   },
   "outputs": [],
   "source": []
  },
  {
   "cell_type": "markdown",
   "metadata": {
    "id": "8twMS4_RuKDm"
   },
   "source": [
    "Question 4. ODE: Boundary value problem. In fluid dynamics, the velocity near a flat surface follows the so-called \"Blasius boundary layer.\" It can be shown that the velocity as a function of the position $\\eta$ away from the surface is given by $u=f'=df/d\\eta$, where the function $f$ satisfies $2f'''+ff''=0$, where primes denote derivatives. The boundary conditions are $f(0)=0$, $f'(0)=0$, and $f'(10)=1$. [18 pts]"
   ]
  },
  {
   "cell_type": "markdown",
   "metadata": {
    "id": "RSBCQYPzedBS"
   },
   "source": [
    "(a) Convert this third-order ODE to a coupled system of three first-order ODEs and define your function and express it as a function so that we can numerically solve it in the next steps. [4 pts]"
   ]
  },
  {
   "cell_type": "code",
   "execution_count": null,
   "metadata": {
    "id": "wZSqPsOEeseE"
   },
   "outputs": [],
   "source": []
  },
  {
   "cell_type": "markdown",
   "metadata": {
    "id": "iaOpfO_2eyZ_"
   },
   "source": [
    "(b) Express all three boundary conditions as one function. [4 pts]"
   ]
  },
  {
   "cell_type": "code",
   "execution_count": null,
   "metadata": {
    "id": "W6kCkWUhezhq"
   },
   "outputs": [],
   "source": []
  },
  {
   "cell_type": "markdown",
   "metadata": {
    "id": "ipuXvYrXfGLC"
   },
   "source": [
    "(c) Numerically solve the ODE using scipy.integrate.solve_bvp for $x$ ranging from $0$ to $10$ in steps of $0.01$. [5 pts]"
   ]
  },
  {
   "cell_type": "code",
   "execution_count": null,
   "metadata": {
    "id": "TtoOXOwSfRCI"
   },
   "outputs": [],
   "source": [
    "h=0.01\n",
    "t=(0,10,h)\n",
    "scipy.integrate.solve_bvp()"
   ]
  },
  {
   "cell_type": "markdown",
   "metadata": {
    "id": "Nd_YMopcfd79"
   },
   "source": [
    "(d) Plot your velocity in the range of $\\eta$ in $[0,10]$ and make sure to include a title, an $x$-axis label, and a $y$-axis label. [5 pts]"
   ]
  },
  {
   "cell_type": "code",
   "execution_count": null,
   "metadata": {
    "id": "npsLJjbauNgm"
   },
   "outputs": [],
   "source": []
  },
  {
   "cell_type": "markdown",
   "metadata": {
    "id": "JZJiidg9gbD0"
   },
   "source": [
    "Rough cells (won't be graded or looked at)"
   ]
  },
  {
   "cell_type": "code",
   "execution_count": null,
   "metadata": {
    "id": "bOkp1P9Jgebx"
   },
   "outputs": [],
   "source": []
  },
  {
   "cell_type": "code",
   "execution_count": null,
   "metadata": {
    "id": "zdLyHzG7genV"
   },
   "outputs": [],
   "source": []
  },
  {
   "cell_type": "code",
   "execution_count": null,
   "metadata": {
    "id": "-wrMjWHFgews"
   },
   "outputs": [],
   "source": []
  },
  {
   "cell_type": "code",
   "execution_count": null,
   "metadata": {
    "id": "MCyFkvHHge6O"
   },
   "outputs": [],
   "source": []
  },
  {
   "cell_type": "code",
   "execution_count": null,
   "metadata": {
    "id": "AEdVBx44gfE5"
   },
   "outputs": [],
   "source": []
  }
 ],
 "metadata": {
  "colab": {
   "collapsed_sections": [],
   "provenance": []
  },
  "kernelspec": {
   "display_name": "Python 3 (ipykernel)",
   "language": "python",
   "name": "python3"
  },
  "language_info": {
   "codemirror_mode": {
    "name": "ipython",
    "version": 3
   },
   "file_extension": ".py",
   "mimetype": "text/x-python",
   "name": "python",
   "nbconvert_exporter": "python",
   "pygments_lexer": "ipython3",
   "version": "3.9.7"
  }
 },
 "nbformat": 4,
 "nbformat_minor": 1
}
