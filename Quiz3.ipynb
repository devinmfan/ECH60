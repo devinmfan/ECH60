{
 "cells": [
  {
   "cell_type": "markdown",
   "metadata": {
    "id": "jS-KC5EhtTf0"
   },
   "source": [
    "# Quiz 3\n",
    "\n",
    "You will have to upload your quiz to Canvas in the correct ipynb format within the 45 minute testing period. \n",
    "\n",
    "You may consult your notes, lecture material, homework assignments, discussion section material, ECH 60 jupyter notebook web site (https://hmanikantan.github.io/ECH60/), and Python Programming and Numerical Methods web site (https://pythonnumericalmethods.berkeley.edu/notebooks/Index.html). You must NOT consult any other sources. You should NOT seek help from anyone else for the duration of the quiz. And you should NOT share or discuss questions with other sections after your quiz. Any violation of these rules will be treated as academic misconduct and will be reported as such to the office of student support and judicial affairs.\n",
    "\n",
    "Partial points will be awarded ONLY IF a reasonably accurate attempt has been made. \n",
    "\n",
    "Acknowledge abiding by these rules by writing a single line of code to print your name:"
   ]
  },
  {
   "cell_type": "code",
   "execution_count": 1,
   "metadata": {
    "colab": {
     "base_uri": "https://localhost:8080/"
    },
    "id": "j8KN2Goa3luV",
    "outputId": "1ef02961-97f6-432a-da8c-69bcb589bd2d"
   },
   "outputs": [
    {
     "name": "stdout",
     "output_type": "stream",
     "text": [
      "Devin Fan\n"
     ]
    }
   ],
   "source": [
    "print('Devin Fan')"
   ]
  },
  {
   "cell_type": "markdown",
   "metadata": {
    "id": "MN8eVpdHU9Jn"
   },
   "source": [
    "Question 1. Forward time centered space (FTCS). Recall that the 1D heat equation can be described by the following PDE $\\frac{\\partial T}{\\partial t} = D\\frac{\\partial^2 T}{\\partial x^2}$. This time, let $T(0,t) = 10, T(L,t) = 0, T(x,0) = f(x) = \\cos(x)$. Let $D = 2\\times 10^{-4}$ m$^2$/s, $L = 0.04$ m, $\\Delta x = 0.0005$ m, and $t$ span from 0 to 1 s with $\\Delta t = 0.00354$ s. [42 pts]"
   ]
  },
  {
   "cell_type": "markdown",
   "metadata": {
    "id": "-VlkqkdFZON6"
   },
   "source": [
    "(a) First, import all of the necessary python packages. [1 pt]"
   ]
  },
  {
   "cell_type": "code",
   "execution_count": 2,
   "metadata": {
    "id": "7UotwbjuZYPp"
   },
   "outputs": [],
   "source": [
    "import numpy as np\n",
    "import scipy\n",
    "import matplotlib.pyplot as plt\n",
    "from numpy.fft import fft, ifft\n",
    "from scipy.fftpack import fft, ifft\n",
    "from scipy.fftpack import fftfreq"
   ]
  },
  {
   "cell_type": "markdown",
   "metadata": {
    "id": "tirx4oMxZfmx"
   },
   "source": [
    "(b) Second, define all of the constants for this problem, i.e., D, L, $\\Delta x$, $\\Delta t$, and variables that are equal to $T(0,t)$, $T(L,t)$, and maximum time $t$. [7 pts] "
   ]
  },
  {
   "cell_type": "code",
   "execution_count": 10,
   "metadata": {
    "id": "KU4AsFEDZmu6"
   },
   "outputs": [],
   "source": [
    "D = 2e-4\n",
    "L = 0.04\n",
    "time_final = 1\n",
    "t0 = 10\n",
    "tl = 0.0\n",
    "dx = 0.0005\n",
    "dt = 0.00354"
   ]
  },
  {
   "cell_type": "markdown",
   "metadata": {
    "id": "BjCjKgyIaia9"
   },
   "source": [
    "(c) Third, initialize the $x$ and $t$ arrays/vectors that will store values from 0 to L in $\\Delta x$ intervals and from 0 to 1 s in $\\Delta t$ intervals, respectively. Also initialize two variables that are equal to the length of $x$ and $t$, respectively. Finally, define $T(x,0)=f(x)=\\cos(x)$ as a variable. [5 pts]"
   ]
  },
  {
   "cell_type": "code",
   "execution_count": 11,
   "metadata": {
    "id": "uFhsH-sjbGku"
   },
   "outputs": [],
   "source": [
    "x = np.arange(0,L+dx,dx)\n",
    "len_x = len(x)\n",
    "\n",
    "t = np.arange(0,time+dt,dt)\n",
    "len_t = len(t)\n",
    "\n",
    "Tx = lambda x: np.cos(x)"
   ]
  },
  {
   "cell_type": "markdown",
   "metadata": {
    "id": "KixuOmH2bOoD"
   },
   "source": [
    "(d) Fourth, initialize the $T$ matrix that will store the solutions with the $\\textbf{first dimension for $t$ and second dimension for $x$}$ and put the appropriate initial condition values (i.e., $T(x,0)$) and boundary condition values (i.e., $T(0,t)$, $T(L,t)$) to $T$. [4 pts]"
   ]
  },
  {
   "cell_type": "code",
   "execution_count": 19,
   "metadata": {
    "id": "ukKbMmvhbink"
   },
   "outputs": [],
   "source": [
    "T = np.zeros((len_x, len_t))\n",
    "Tx = T[:, 0]\n",
    "t0 = T[0, :] \n",
    "t1 = T[-1, :]"
   ]
  },
  {
   "cell_type": "markdown",
   "metadata": {
    "id": "c1h5imFJcDR8"
   },
   "source": [
    "(e) Recall that the 1D heat equation is approximated as\n",
    "$$\\frac{T_i^{n+1} - T_i^n}{\\Delta t} = D\\frac{T_{i+1}^n - 2T_i^n + T_{i-1}^n}{\\Delta x^2}$$\n",
    "\n",
    "so the future value can be calculated as $$T_i^{n+1} = T_i^n + r(T_{i+1}^n - 2T_i^n + T_{i-1}^n)$$ where $r = \\frac{D\\Delta t}{\\Delta x^2}$. Define the variable $r$, print the value of $r$, and use for loops to calculate all of the solutions or fill in the rest of $T$. [5 pts]"
   ]
  },
  {
   "cell_type": "code",
   "execution_count": 87,
   "metadata": {
    "id": "xanJC51UcB9R"
   },
   "outputs": [
    {
     "name": "stdout",
     "output_type": "stream",
     "text": [
      "2.8320000000000003\n"
     ]
    }
   ],
   "source": [
    "r = D * dt / dx**2\n",
    "print(r)\n",
    "\n",
    "for n in range(len_t-1):\n",
    "    for i in range(1,len_x-1):\n",
    "        T[i,n+1] = T[i,n]+r*(T[i+1,n]-2*T[i,n]+T[i-1,n])"
   ]
  },
  {
   "cell_type": "markdown",
   "metadata": {
    "id": "eLBLew9pdSeq"
   },
   "source": [
    "(f) Plot your results at 0.2, 0.4, 0.6, 0.8, and 1 s in one single plot. Make sure to put labels for each result, legend, title, $x$-axis label, and $y$-axis label for your plot. [19 pts]"
   ]
  },
  {
   "cell_type": "code",
   "execution_count": 88,
   "metadata": {
    "id": "q6-CDV9ud-mp"
   },
   "outputs": [
    {
     "ename": "ValueError",
     "evalue": "x and y must have same first dimension, but have shapes (201,) and (81,)",
     "output_type": "error",
     "traceback": [
      "\u001b[0;31m---------------------------------------------------------------------------\u001b[0m",
      "\u001b[0;31mValueError\u001b[0m                                Traceback (most recent call last)",
      "\u001b[0;32m/var/folders/22/g0lkw7px703_ymv0l30dq4p80000gn/T/ipykernel_20713/1344661703.py\u001b[0m in \u001b[0;36m<module>\u001b[0;34m\u001b[0m\n\u001b[1;32m      5\u001b[0m \u001b[0monesec_index\u001b[0m \u001b[0;34m=\u001b[0m \u001b[0mint\u001b[0m\u001b[0;34m(\u001b[0m\u001b[0;36m1\u001b[0m\u001b[0;34m/\u001b[0m\u001b[0mdt\u001b[0m\u001b[0;34m)\u001b[0m\u001b[0;34m\u001b[0m\u001b[0;34m\u001b[0m\u001b[0m\n\u001b[1;32m      6\u001b[0m \u001b[0;34m\u001b[0m\u001b[0m\n\u001b[0;32m----> 7\u001b[0;31m \u001b[0mplt\u001b[0m\u001b[0;34m.\u001b[0m\u001b[0mplot\u001b[0m\u001b[0;34m(\u001b[0m\u001b[0mx\u001b[0m\u001b[0;34m,\u001b[0m\u001b[0mT\u001b[0m\u001b[0;34m[\u001b[0m\u001b[0;34m:\u001b[0m\u001b[0;34m,\u001b[0m\u001b[0mpointtwo_index\u001b[0m\u001b[0;34m]\u001b[0m\u001b[0;34m,\u001b[0m\u001b[0;34m'r'\u001b[0m\u001b[0;34m,\u001b[0m\u001b[0mlabel\u001b[0m\u001b[0;34m=\u001b[0m\u001b[0;34m'0.2s'\u001b[0m\u001b[0;34m)\u001b[0m\u001b[0;34m\u001b[0m\u001b[0;34m\u001b[0m\u001b[0m\n\u001b[0m\u001b[1;32m      8\u001b[0m \u001b[0mplt\u001b[0m\u001b[0;34m.\u001b[0m\u001b[0mplot\u001b[0m\u001b[0;34m(\u001b[0m\u001b[0mx\u001b[0m\u001b[0;34m,\u001b[0m\u001b[0mT\u001b[0m\u001b[0;34m[\u001b[0m\u001b[0;34m:\u001b[0m\u001b[0;34m,\u001b[0m\u001b[0mpointfour_index\u001b[0m\u001b[0;34m]\u001b[0m\u001b[0;34m,\u001b[0m\u001b[0;34m'g'\u001b[0m\u001b[0;34m,\u001b[0m\u001b[0mlabel\u001b[0m\u001b[0;34m=\u001b[0m\u001b[0;34m'0.4s'\u001b[0m\u001b[0;34m)\u001b[0m\u001b[0;34m\u001b[0m\u001b[0;34m\u001b[0m\u001b[0m\n\u001b[1;32m      9\u001b[0m \u001b[0mplt\u001b[0m\u001b[0;34m.\u001b[0m\u001b[0mplot\u001b[0m\u001b[0;34m(\u001b[0m\u001b[0mx\u001b[0m\u001b[0;34m,\u001b[0m\u001b[0mT\u001b[0m\u001b[0;34m[\u001b[0m\u001b[0;34m:\u001b[0m\u001b[0;34m,\u001b[0m\u001b[0mpointsix_index\u001b[0m\u001b[0;34m]\u001b[0m\u001b[0;34m,\u001b[0m\u001b[0;34m'b'\u001b[0m\u001b[0;34m,\u001b[0m\u001b[0mlabel\u001b[0m\u001b[0;34m=\u001b[0m\u001b[0;34m'0.6s'\u001b[0m\u001b[0;34m)\u001b[0m\u001b[0;34m\u001b[0m\u001b[0;34m\u001b[0m\u001b[0m\n",
      "\u001b[0;32m~/opt/anaconda3/lib/python3.9/site-packages/matplotlib/pyplot.py\u001b[0m in \u001b[0;36mplot\u001b[0;34m(scalex, scaley, data, *args, **kwargs)\u001b[0m\n\u001b[1;32m   3017\u001b[0m \u001b[0;34m@\u001b[0m\u001b[0m_copy_docstring_and_deprecators\u001b[0m\u001b[0;34m(\u001b[0m\u001b[0mAxes\u001b[0m\u001b[0;34m.\u001b[0m\u001b[0mplot\u001b[0m\u001b[0;34m)\u001b[0m\u001b[0;34m\u001b[0m\u001b[0;34m\u001b[0m\u001b[0m\n\u001b[1;32m   3018\u001b[0m \u001b[0;32mdef\u001b[0m \u001b[0mplot\u001b[0m\u001b[0;34m(\u001b[0m\u001b[0;34m*\u001b[0m\u001b[0margs\u001b[0m\u001b[0;34m,\u001b[0m \u001b[0mscalex\u001b[0m\u001b[0;34m=\u001b[0m\u001b[0;32mTrue\u001b[0m\u001b[0;34m,\u001b[0m \u001b[0mscaley\u001b[0m\u001b[0;34m=\u001b[0m\u001b[0;32mTrue\u001b[0m\u001b[0;34m,\u001b[0m \u001b[0mdata\u001b[0m\u001b[0;34m=\u001b[0m\u001b[0;32mNone\u001b[0m\u001b[0;34m,\u001b[0m \u001b[0;34m**\u001b[0m\u001b[0mkwargs\u001b[0m\u001b[0;34m)\u001b[0m\u001b[0;34m:\u001b[0m\u001b[0;34m\u001b[0m\u001b[0;34m\u001b[0m\u001b[0m\n\u001b[0;32m-> 3019\u001b[0;31m     return gca().plot(\n\u001b[0m\u001b[1;32m   3020\u001b[0m         \u001b[0;34m*\u001b[0m\u001b[0margs\u001b[0m\u001b[0;34m,\u001b[0m \u001b[0mscalex\u001b[0m\u001b[0;34m=\u001b[0m\u001b[0mscalex\u001b[0m\u001b[0;34m,\u001b[0m \u001b[0mscaley\u001b[0m\u001b[0;34m=\u001b[0m\u001b[0mscaley\u001b[0m\u001b[0;34m,\u001b[0m\u001b[0;34m\u001b[0m\u001b[0;34m\u001b[0m\u001b[0m\n\u001b[1;32m   3021\u001b[0m         **({\"data\": data} if data is not None else {}), **kwargs)\n",
      "\u001b[0;32m~/opt/anaconda3/lib/python3.9/site-packages/matplotlib/axes/_axes.py\u001b[0m in \u001b[0;36mplot\u001b[0;34m(self, scalex, scaley, data, *args, **kwargs)\u001b[0m\n\u001b[1;32m   1603\u001b[0m         \"\"\"\n\u001b[1;32m   1604\u001b[0m         \u001b[0mkwargs\u001b[0m \u001b[0;34m=\u001b[0m \u001b[0mcbook\u001b[0m\u001b[0;34m.\u001b[0m\u001b[0mnormalize_kwargs\u001b[0m\u001b[0;34m(\u001b[0m\u001b[0mkwargs\u001b[0m\u001b[0;34m,\u001b[0m \u001b[0mmlines\u001b[0m\u001b[0;34m.\u001b[0m\u001b[0mLine2D\u001b[0m\u001b[0;34m)\u001b[0m\u001b[0;34m\u001b[0m\u001b[0;34m\u001b[0m\u001b[0m\n\u001b[0;32m-> 1605\u001b[0;31m         \u001b[0mlines\u001b[0m \u001b[0;34m=\u001b[0m \u001b[0;34m[\u001b[0m\u001b[0;34m*\u001b[0m\u001b[0mself\u001b[0m\u001b[0;34m.\u001b[0m\u001b[0m_get_lines\u001b[0m\u001b[0;34m(\u001b[0m\u001b[0;34m*\u001b[0m\u001b[0margs\u001b[0m\u001b[0;34m,\u001b[0m \u001b[0mdata\u001b[0m\u001b[0;34m=\u001b[0m\u001b[0mdata\u001b[0m\u001b[0;34m,\u001b[0m \u001b[0;34m**\u001b[0m\u001b[0mkwargs\u001b[0m\u001b[0;34m)\u001b[0m\u001b[0;34m]\u001b[0m\u001b[0;34m\u001b[0m\u001b[0;34m\u001b[0m\u001b[0m\n\u001b[0m\u001b[1;32m   1606\u001b[0m         \u001b[0;32mfor\u001b[0m \u001b[0mline\u001b[0m \u001b[0;32min\u001b[0m \u001b[0mlines\u001b[0m\u001b[0;34m:\u001b[0m\u001b[0;34m\u001b[0m\u001b[0;34m\u001b[0m\u001b[0m\n\u001b[1;32m   1607\u001b[0m             \u001b[0mself\u001b[0m\u001b[0;34m.\u001b[0m\u001b[0madd_line\u001b[0m\u001b[0;34m(\u001b[0m\u001b[0mline\u001b[0m\u001b[0;34m)\u001b[0m\u001b[0;34m\u001b[0m\u001b[0;34m\u001b[0m\u001b[0m\n",
      "\u001b[0;32m~/opt/anaconda3/lib/python3.9/site-packages/matplotlib/axes/_base.py\u001b[0m in \u001b[0;36m__call__\u001b[0;34m(self, data, *args, **kwargs)\u001b[0m\n\u001b[1;32m    313\u001b[0m                 \u001b[0mthis\u001b[0m \u001b[0;34m+=\u001b[0m \u001b[0margs\u001b[0m\u001b[0;34m[\u001b[0m\u001b[0;36m0\u001b[0m\u001b[0;34m]\u001b[0m\u001b[0;34m,\u001b[0m\u001b[0;34m\u001b[0m\u001b[0;34m\u001b[0m\u001b[0m\n\u001b[1;32m    314\u001b[0m                 \u001b[0margs\u001b[0m \u001b[0;34m=\u001b[0m \u001b[0margs\u001b[0m\u001b[0;34m[\u001b[0m\u001b[0;36m1\u001b[0m\u001b[0;34m:\u001b[0m\u001b[0;34m]\u001b[0m\u001b[0;34m\u001b[0m\u001b[0;34m\u001b[0m\u001b[0m\n\u001b[0;32m--> 315\u001b[0;31m             \u001b[0;32myield\u001b[0m \u001b[0;32mfrom\u001b[0m \u001b[0mself\u001b[0m\u001b[0;34m.\u001b[0m\u001b[0m_plot_args\u001b[0m\u001b[0;34m(\u001b[0m\u001b[0mthis\u001b[0m\u001b[0;34m,\u001b[0m \u001b[0mkwargs\u001b[0m\u001b[0;34m)\u001b[0m\u001b[0;34m\u001b[0m\u001b[0;34m\u001b[0m\u001b[0m\n\u001b[0m\u001b[1;32m    316\u001b[0m \u001b[0;34m\u001b[0m\u001b[0m\n\u001b[1;32m    317\u001b[0m     \u001b[0;32mdef\u001b[0m \u001b[0mget_next_color\u001b[0m\u001b[0;34m(\u001b[0m\u001b[0mself\u001b[0m\u001b[0;34m)\u001b[0m\u001b[0;34m:\u001b[0m\u001b[0;34m\u001b[0m\u001b[0;34m\u001b[0m\u001b[0m\n",
      "\u001b[0;32m~/opt/anaconda3/lib/python3.9/site-packages/matplotlib/axes/_base.py\u001b[0m in \u001b[0;36m_plot_args\u001b[0;34m(self, tup, kwargs, return_kwargs)\u001b[0m\n\u001b[1;32m    499\u001b[0m \u001b[0;34m\u001b[0m\u001b[0m\n\u001b[1;32m    500\u001b[0m         \u001b[0;32mif\u001b[0m \u001b[0mx\u001b[0m\u001b[0;34m.\u001b[0m\u001b[0mshape\u001b[0m\u001b[0;34m[\u001b[0m\u001b[0;36m0\u001b[0m\u001b[0;34m]\u001b[0m \u001b[0;34m!=\u001b[0m \u001b[0my\u001b[0m\u001b[0;34m.\u001b[0m\u001b[0mshape\u001b[0m\u001b[0;34m[\u001b[0m\u001b[0;36m0\u001b[0m\u001b[0;34m]\u001b[0m\u001b[0;34m:\u001b[0m\u001b[0;34m\u001b[0m\u001b[0;34m\u001b[0m\u001b[0m\n\u001b[0;32m--> 501\u001b[0;31m             raise ValueError(f\"x and y must have same first dimension, but \"\n\u001b[0m\u001b[1;32m    502\u001b[0m                              f\"have shapes {x.shape} and {y.shape}\")\n\u001b[1;32m    503\u001b[0m         \u001b[0;32mif\u001b[0m \u001b[0mx\u001b[0m\u001b[0;34m.\u001b[0m\u001b[0mndim\u001b[0m \u001b[0;34m>\u001b[0m \u001b[0;36m2\u001b[0m \u001b[0;32mor\u001b[0m \u001b[0my\u001b[0m\u001b[0;34m.\u001b[0m\u001b[0mndim\u001b[0m \u001b[0;34m>\u001b[0m \u001b[0;36m2\u001b[0m\u001b[0;34m:\u001b[0m\u001b[0;34m\u001b[0m\u001b[0;34m\u001b[0m\u001b[0m\n",
      "\u001b[0;31mValueError\u001b[0m: x and y must have same first dimension, but have shapes (201,) and (81,)"
     ]
    },
    {
     "data": {
      "image/png": "[encoded data removed]",
      "text/plain": [
       "<Figure size 432x288 with 1 Axes>"
      ]
     },
     "metadata": {
      "needs_background": "light"
     },
     "output_type": "display_data"
    }
   ],
   "source": [
    "pointtwo_index = int(0.2/dt)\n",
    "pointfour_index = int(0.4/dt)\n",
    "pointsix_index = int(0.6/dt)\n",
    "pointeight_index = int(0.8/dt)\n",
    "onesec_index = int(1/dt)\n",
    "\n",
    "plt.plot(x,T[:,pointtwo_index],'r',label='0.2s')\n",
    "plt.plot(x,T[:,pointfour_index],'g',label='0.4s')\n",
    "plt.plot(x,T[:,pointsix_index],'b',label='0.6s')\n",
    "plt.plot(x,T[:,pointeight_index],'k',label='0.8s')\n",
    "plt.plot(x,T[:,onesec_index],'m',label='1s')\n",
    "plt.legend()\n",
    "plt.title('solutions with $\\Delta$t = 0.00354s')\n",
    "plt.xlabel('x')\n",
    "plt.ylabel('y')\n",
    "plt.show()"
   ]
  },
  {
   "cell_type": "markdown",
   "metadata": {
    "id": "zxNDAEX5fmkh"
   },
   "source": [
    "(g) Finally, comment on your plot from 1(f) and $r$ value calculated from 1(e). [1 pts]"
   ]
  },
  {
   "cell_type": "markdown",
   "metadata": {
    "id": "PXQHZgcpfzb5"
   },
   "source": []
  },
  {
   "cell_type": "markdown",
   "metadata": {
    "id": "2cfGXKQkfa6t"
   },
   "source": [
    "Question 2. Crank-Nicolson method. We'll use the Crank-Nicolson to solve the problem in Question 1. [41 pts]"
   ]
  },
  {
   "cell_type": "markdown",
   "metadata": {
    "id": "lEm9xf2SgcXC"
   },
   "source": [
    "(a) Recall that the 1D heat equation is approximated as\n",
    "$$\\frac{T_i^{n+1} - T_i^n}{\\Delta t} = \\frac{D}{2}\\frac{(T_{i+1}^{n+1} - 2T_i^{n+1} + T_{i-1}^{n+1}) + (T_{i+1}^{n} - 2T_i^{n} + T_{i-1}^{n})}{\\Delta x^2}$$\n",
    "\n",
    "so the future values can be calculated from $$T_i^{n+1} - \\alpha(T_{i+1}^{n+1} - 2T_i^{n+1} + T_{i-1}^{n+1}) = \\alpha(T_{i+1}^{n} - 2T_i^{n} + T_{i-1}^{n})$$\n",
    "where $\\alpha = \\frac{D\\Delta t}{2\\Delta x^2}$. Since all of the constants are defined in 1(b) and $x$ and $t$ are initialized in 1(c), define $\\alpha$. [1 pts]"
   ]
  },
  {
   "cell_type": "code",
   "execution_count": 32,
   "metadata": {
    "id": "_Y53nuNBhbpY"
   },
   "outputs": [],
   "source": [
    "alpha = D*dt/2/dx/dx"
   ]
  },
  {
   "cell_type": "markdown",
   "metadata": {
    "id": "IO8tBGp3hfSm"
   },
   "source": [
    "(b) Recall that the equation in 2(a) can be reconstructed to a linear algebra problem $A\\mathbf{x} = \\mathbf{b}$ of the form below:\n",
    "$$\n",
    "\\begin{bmatrix}\n",
    "1+2\\alpha & -\\alpha & 0 &  & \\ldots && \\\\\n",
    "-\\alpha & 1+2\\alpha & -\\alpha &  & \\ldots & &\\\\\n",
    "0 & -\\alpha & 1+2\\alpha &  & \\ldots & &\\\\\n",
    " & & &  & 1+2\\alpha & -\\alpha & 0\\\\\n",
    " & & & & -\\alpha & 1+2\\alpha & \\alpha\\\\\n",
    "  & & & &  0 & -\\alpha & 1+2\\alpha\\\\\n",
    "\\end{bmatrix}\n",
    "\\begin{bmatrix}\n",
    "T_i^{n+1}\\\\\n",
    "T_2^{n+1}\\\\\n",
    "\\vdots\\\\\n",
    "T_{M-2}^{n+1}\\\\\n",
    "T_{M-1}^{n+1}\n",
    "\\end{bmatrix}\n",
    "=\n",
    "\\begin{bmatrix}\n",
    "\\alpha T_0^n + (1-2\\alpha) T_1^n + \\alpha T_2^n + \\alpha T_0^{n+1}\\\\\n",
    "\\alpha T_1^n + (1-2\\alpha) T_2^n + \\alpha T_3^n\\\\\n",
    "\\vdots\\\\\n",
    "\\alpha T_{M-3}^n + (1-2\\alpha) T_{M-2}^n + \\alpha T_{M-1}^n\\\\\n",
    "\\alpha T_{M-2}^n + (1-2\\alpha) T_{M-1}^n + \\alpha T_M^n + \\alpha T_M^{n+1}\n",
    "\\end{bmatrix}$$\n",
    "Construct the tridiagonal matrix $A$ that has $1+2\\alpha$ as diagonal entries and $-\\alpha$ as off-diagonal entries. [4 pts]\n",
    "\n"
   ]
  },
  {
   "cell_type": "code",
   "execution_count": 52,
   "metadata": {
    "id": "q79toO7fiCzd"
   },
   "outputs": [
    {
     "name": "stdout",
     "output_type": "stream",
     "text": [
      "[[ 3.832 -1.416  0.    ...  0.     0.     0.   ]\n",
      " [-1.416  3.832 -1.416 ...  0.     0.     0.   ]\n",
      " [ 0.    -1.416  3.832 ...  0.     0.     0.   ]\n",
      " ...\n",
      " [ 0.     0.     0.    ...  3.832 -1.416  0.   ]\n",
      " [ 0.     0.     0.    ... -1.416  3.832 -1.416]\n",
      " [ 0.     0.     0.    ...  0.    -1.416  3.832]]\n"
     ]
    }
   ],
   "source": [
    "alpha = D * dt / (2 * dx**2)\n",
    "A = np.eye(len_x - 2, len_x - 2) * (1 + 2 * alpha)\n",
    "for i in range(len_x - 3):\n",
    "    A[i, i + 1] = -alpha\n",
    "    A[i + 1, i] = -alpha\n",
    "print(A)"
   ]
  },
  {
   "cell_type": "markdown",
   "metadata": {
    "id": "5pG6SKRak11X"
   },
   "source": [
    "(c) Again, initialize the $T$ matrix that will store the solutions with the $\\textbf{first dimension for $t$ and second dimension for $x$}$ and put the appropriate initial condition values (i.e., $T(x,0)$) and boundary condition values (i.e., $T(0,t)$, $T(L,t)$) to $T$. [4 pts]"
   ]
  },
  {
   "cell_type": "code",
   "execution_count": 38,
   "metadata": {
    "id": "ANwBZt91lP07"
   },
   "outputs": [],
   "source": [
    "T = np.zeros((len_x, len_t))\n",
    "T[:, 0] = Tx\n",
    "T[0, :] = t0 \n",
    "T[-1, :] = t1"
   ]
  },
  {
   "cell_type": "markdown",
   "metadata": {
    "id": "act4jzqSihBe"
   },
   "source": [
    "(d) Now, construct the very first (i.e., when $n = 0$) right hand side column vector $b$. [3 pts]"
   ]
  },
  {
   "cell_type": "code",
   "execution_count": null,
   "metadata": {
    "id": "iDZDg6jMkkZd"
   },
   "outputs": [],
   "source": [
    "b = alpha * T[:-2, 0] + (1 - 2*alpha) * T[1:-1, 0] + alpha * T[2:, 0]\n",
    "b[0] += alpha * t0\n",
    "b[-1] += alpha * t1"
   ]
  },
  {
   "cell_type": "markdown",
   "metadata": {
    "id": "94wcPhral2IQ"
   },
   "source": [
    "(e) Solve the linear algebra problem $Ax=b$ with np.linalg.solve with $A$ from 2(b) and $b$ from 1(d). Then fill in $T$ at the appropriate indices with the solution $x$ from the linear algebra problem. [2 pts]"
   ]
  },
  {
   "cell_type": "code",
   "execution_count": 55,
   "metadata": {
    "id": "qIi0c8IvmM0V"
   },
   "outputs": [],
   "source": [
    "sol = np.linalg.solve(A, b)\n",
    "T[1:-1, 1] = sol"
   ]
  },
  {
   "cell_type": "markdown",
   "metadata": {
    "id": "0Q8l8FRHmTwH"
   },
   "source": [
    "(f) Use for loops to calculate all of the solutions or fill in the rest of $T$. [7 pts]"
   ]
  },
  {
   "cell_type": "code",
   "execution_count": 60,
   "metadata": {
    "id": "AtYTkVYfmuuD"
   },
   "outputs": [],
   "source": [
    "for n in range(2, len_t):\n",
    "\n",
    "    b[0] = alpha*t0 + alpha*t0 + (1 - 2*alpha)*sol[0] + alpha*sol[1]\n",
    "    b[-1] = alpha*t1 + alpha*t1 + alpha*sol[-2] + (1-2*alpha)*sol[-1]\n",
    "\n",
    "    for i in range(1, len(b)-1):\n",
    "        #b[i] = alpha*sol[i-1] + (1-2*alpha)*sol[i] + alpha*sol[i+1]\n",
    "    sol = np.linalg.solve(A, b)\n",
    "    T[1:-1, n] = sol"
   ]
  },
  {
   "cell_type": "markdown",
   "metadata": {
    "id": "Td5ZgdCBm0cB"
   },
   "source": [
    "(g) Plot your results at 0.2, 0.4, 0.6, 0.8, and 1 s in one single plot. Make sure to put labels for each result, legend, title, $x$-axis label, and $y$-axis label for your plot. [19 pts]"
   ]
  },
  {
   "cell_type": "code",
   "execution_count": 61,
   "metadata": {
    "id": "xgiNvfDem_6X"
   },
   "outputs": [
    {
     "data": {
      "image/png": "[encoded data removed]",
      "text/plain": [
       "<Figure size 432x288 with 1 Axes>"
      ]
     },
     "metadata": {
      "needs_background": "light"
     },
     "output_type": "display_data"
    }
   ],
   "source": [
    "pointtwo_index = int(0.2/dt)\n",
    "pointfour_index = int(0.4/dt)\n",
    "pointsix_index = int(0.6/dt)\n",
    "pointeight_index = int(0.8/dt)\n",
    "onesec_index = int(1/dt)\n",
    "\n",
    "plt.plot(x,T[:,pointtwo_index],'r',label='0.2s')\n",
    "plt.plot(x,T[:,pointfour_index],'g',label='0.4s')\n",
    "plt.plot(x,T[:,pointsix_index],'b',label='0.6s')\n",
    "plt.plot(x,T[:,pointeight_index],'k',label='0.8s')\n",
    "plt.plot(x,T[:,onesec_index],'m',label='1s')\n",
    "plt.legend()\n",
    "plt.title('solutions with $\\Delta$t = 0.00354s')\n",
    "plt.xlabel('x')\n",
    "plt.ylabel('y')\n",
    "plt.show()"
   ]
  },
  {
   "cell_type": "markdown",
   "metadata": {
    "id": "66JdaooYnnsr"
   },
   "source": [
    "(h) What is the difference between the plot from 2(g) and the plot from 1(f)? Why? [1 pts]"
   ]
  },
  {
   "cell_type": "markdown",
   "metadata": {
    "id": "kaA5VzOjPeFS"
   },
   "source": []
  },
  {
   "cell_type": "markdown",
   "metadata": {
    "id": "qX0Cq7kCqoWN"
   },
   "source": [
    "Question 3. Waves, discrete Fourier transform (DFT), and fast Fourier transform (FFT). [27 pts]"
   ]
  },
  {
   "cell_type": "markdown",
   "metadata": {
    "id": "5xzqoBHSvpl_"
   },
   "source": [
    "(a) Generate a signal that is a sum of one sine wave with a frequency of 2 Hz, an amplitude of 5, and a phase shift of 2, and another sine wave with a frequency of 4 Hz, an amplitude of 10, and a phase shift of -2. Let the sampling rate be 100 Hz. Plot the signal for 2 seconds. Remember to include a title, $x$-axis label, and $y$-axis label for the plot. [9 pts]"
   ]
  },
  {
   "cell_type": "code",
   "execution_count": 74,
   "metadata": {
    "id": "N5TTo293w_r_"
   },
   "outputs": [
    {
     "data": {
      "image/png": "[encoded data removed]",
      "text/plain": [
       "<Figure size 432x288 with 1 Axes>"
      ]
     },
     "metadata": {
      "needs_background": "light"
     },
     "output_type": "display_data"
    }
   ],
   "source": [
    "sr = 100\n",
    "ts = 1.0/sr\n",
    "\n",
    "t = np.arange(0,2+ts,ts)\n",
    "\n",
    "x = 5*np.sin(2*np.pi*2*t+2)\n",
    "x += 10*np.sin(2*np.pi*4*t-2)\n",
    "\n",
    "\n",
    "plt.plot(t,x,'r')\n",
    "plt.xlabel('time domain')\n",
    "plt.ylabel('amplitude')\n",
    "plt.title('plot of our input signal')\n",
    "plt.show()"
   ]
  },
  {
   "cell_type": "markdown",
   "metadata": {
    "id": "_6eIwLXY6b5o"
   },
   "source": [
    "(b) Use scipy.fftpack.fft to calculate the FFT of the signal in 3(a). Plot the $\\textbf{first half of the normalized FFT spectrum}$ and include a title, $x$-axis label, and $y$-axis label for the plot. Make sure to have no markers and only lines show in the plot (i.e., markerfmt=\" \") and make the spectrum lines and the base line have the same color. Do not worry if you see warning messages, which may appear depending on your matplotlib version. The plot should also show the $x$-axis part from 0 to 10 freq (Hz). Finally, use %timeit to measure the time it took to execute scipy.fftpack.fft for the signal in 3(a). [18 pts]"
   ]
  },
  {
   "cell_type": "code",
   "execution_count": 79,
   "metadata": {
    "id": "44rTo4LwGBz_"
   },
   "outputs": [
    {
     "data": {
      "image/png": "[encoded data removed]",
      "text/plain": [
       "<Figure size 432x288 with 1 Axes>"
      ]
     },
     "metadata": {
      "needs_background": "light"
     },
     "output_type": "display_data"
    },
    {
     "name": "stdout",
     "output_type": "stream",
     "text": [
      "14.4 µs ± 676 ns per loop (mean ± std. dev. of 7 runs, 100000 loops each)\n"
     ]
    }
   ],
   "source": [
    "sr = 100\n",
    "X = fft(x)\n",
    "N = len(X)\n",
    "n = np.arange(N)\n",
    "ts_freq = N/sr\n",
    "freq = n/ts_freq\n",
    "\n",
    "plt.xlim(0,10)\n",
    "plt.stem(freq, abs(X), 'b', markerfmt=\" \", basefmt=\"b\", use_line_collection=True)\n",
    "plt.xlabel('frequency domain')\n",
    "plt.ylabel('FFT amplitude |X(freq)|')\n",
    "plt.title('FFT')\n",
    "plt.show()\n",
    "%timeit fft(x)"
   ]
  },
  {
   "cell_type": "markdown",
   "metadata": {
    "id": "JZJiidg9gbD0"
   },
   "source": [
    "Rough cells (won't be graded or looked at)"
   ]
  },
  {
   "cell_type": "code",
   "execution_count": null,
   "metadata": {
    "id": "bOkp1P9Jgebx"
   },
   "outputs": [],
   "source": []
  },
  {
   "cell_type": "code",
   "execution_count": null,
   "metadata": {
    "id": "zdLyHzG7genV"
   },
   "outputs": [],
   "source": []
  },
  {
   "cell_type": "code",
   "execution_count": null,
   "metadata": {
    "id": "-wrMjWHFgews"
   },
   "outputs": [],
   "source": []
  },
  {
   "cell_type": "code",
   "execution_count": null,
   "metadata": {
    "id": "MCyFkvHHge6O"
   },
   "outputs": [],
   "source": []
  },
  {
   "cell_type": "code",
   "execution_count": null,
   "metadata": {
    "id": "AEdVBx44gfE5"
   },
   "outputs": [],
   "source": []
  }
 ],
 "metadata": {
  "colab": {
   "collapsed_sections": [],
   "provenance": []
  },
  "kernelspec": {
   "display_name": "Python 3 (ipykernel)",
   "language": "python",
   "name": "python3"
  },
  "language_info": {
   "codemirror_mode": {
    "name": "ipython",
    "version": 3
   },
   "file_extension": ".py",
   "mimetype": "text/x-python",
   "name": "python",
   "nbconvert_exporter": "python",
   "pygments_lexer": "ipython3",
   "version": "3.9.7"
  }
 },
 "nbformat": 4,
 "nbformat_minor": 1
}
